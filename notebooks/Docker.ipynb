{
 "cells": [
  {
   "cell_type": "markdown",
   "metadata": {
    "collapsed": true
   },
   "source": [
    "Since writing my last personal [Docker Roadmap blog](http://patclaffey.github.io/Docker/), \n",
    "I have continued on my Docker journey.  \n",
    "Its been quite a trip.  \n",
    "The \n",
    "The October Ireland Docker Meetup featured the Docker roadmap for the next Docker release from Tom Barrows.  Tom focused on Container service discovery and container security,\n",
    "It was really interesting to see what is on the immediate Docker horizon.\n",
    "After the meetup I had a really interesting chat on Docker security with Xavier.\n",
    "\n",
    "The week of oct 4 to 9 for me was also LinuxCon followed by MososCon.\n",
    "I followed two themes at these events - Containerization and Software Defined Networks.\n",
    "There was so much Container content that these events felt more like DockerCon  or at least conTAINERcon - for example for one full day I attended only Container or Docker related events.\n",
    "\n",
    "All the evidence is that Docker is here and Docker is gaining momentum.\n",
    "But Docker has to grow up - and thats the aspect that fascinates me.\n",
    "How will Docker make its decisions at the forks in the roads ahead?\n"
   ]
  },
  {
   "cell_type": "markdown",
   "metadata": {},
   "source": [
    "Tom presentation\n",
    "\n",
    "Current Release\n",
    "- Docker Machine\n",
    "- Docker Swarm\n",
    "- Docker Networking\n",
    "\n",
    "\n",
    "Experimental release\n",
    "- Installation\n",
    "- Docker Networking\n",
    "- Docker Volume\n",
    "- Docker Vault\n",
    "\n",
    "\n"
   ]
  },
  {
   "cell_type": "markdown",
   "metadata": {},
   "source": [
    "Docker Compose\n",
    "\n",
    "\n",
    "Multi-container deployment (Docker compose)\n",
    "deployment on cluster and across cluster.\n",
    "\n",
    "\n",
    "Chat on security / Xavier\n",
    "File System isolation.\n",
    "\n",
    "\n",
    "\n",
    "LinuxCon\n",
    "\n",
    "\n",
    "MesosCon\n"
   ]
  },
  {
   "cell_type": "markdown",
   "metadata": {},
   "source": [
    "Neependra presentation\n",
    "\n",
    "Linux Networking 101\n",
    "https://www.youtube.com/watch?v=3uvqEC8fWV0&list=PLkA60AVN3hh_6cAz8TUGtkYbJSL2bdZ4h&index=12\n",
    "\n",
    "youtube Basic Networking 5\n",
    "\n",
    "ip command\n",
    "brctl show docker0\n",
    "traceroute"
   ]
  },
  {
   "cell_type": "markdown",
   "metadata": {},
   "source": [
    "## Calico Project"
   ]
  },
  {
   "cell_type": "markdown",
   "metadata": {},
   "source": [
    "## My Goals\n",
    "\n",
    "My use case is to investigate the use of Docker within the Python eco-system.  In my opinion the existing Python tools for virtualization are weak.  Docker may provide a better alternative.  My first use of Docker has been to containerize the popular Jupyter Notebook running Python 3.\n",
    "\n",
    "Understand running Docker on Cluster\n",
    "\n",
    "Understand the implication of Containization for Software Defined Networks\n",
    "\n",
    "Understand the security implications of using Docker\n",
    "\n",
    "\n",
    "\n",
    "\n",
    "\n",
    "## Docker Fundamentals\n",
    "\n",
    "\n",
    "### Single Container\n",
    "\n",
    "\n",
    "\n",
    "### Multi-Container - Docker Compose\n",
    "\n",
    "### Cluster deployments\n",
    "Swarm\n",
    "Machine\n",
    "\n",
    "\n",
    "\n",
    "\n",
    "\n",
    "### Security"
   ]
  },
  {
   "cell_type": "code",
   "execution_count": null,
   "metadata": {
    "collapsed": true
   },
   "outputs": [],
   "source": [
    "LinuxCom\n",
    "RedHat guy\n",
    "Insight guy\n"
   ]
  },
  {
   "cell_type": "markdown",
   "metadata": {},
   "source": [
    "## Next Steps\n",
    "\n",
    "### Getting Deeper Docker Knowledge\n",
    "\n",
    "To move beyond the fundamentals I am looking for and reading more in-depth Docker articles.  I have found the [Innovation Lab Blogs](https://labs.ctl.io/blog/) very helpful.\n",
    "For example the posting [Dockerfile ENTRYPOINT vs CMD](https://labs.ctl.io/dockerfile-entrypoint-vs-cmd/) by Brian DeHamer- he explains with clarity the subtleties of running commands and software at container startup.  By the same author is another excellent article [Gracefully Stopping Docker Containers](https://labs.ctl.io/gracefully-stopping-docker-containers/)\n",
    "\n",
    "\"The Docker Book\" by James Turnbull contains a lot of useful information on complex Docker deployments. \n",
    "\n",
    "### Docker in the Python Eco-System\n",
    "I am interested in using Docker within the Python eco-system.  As an example I have developed a Docker image and container for Jupyter. \n",
    "I want to understand the up-take of Docker within the Python community and plans for its future use.\n",
    "\n",
    "\n",
    "\n",
    "### Docker and Windows\n",
    "I am using Docker on linux hosts, AWS EC2 and laptop with Ubuntu. I would like to try Docker on a Windows environment\n",
    "\n",
    "### Docker Eco-System\n",
    "A number of tools are available within the Docker Eco-System.  They include\n",
    "\n",
    "- Compose\n",
    "- Machine\n",
    "- Swarm\n",
    "- Rancher\n",
    "\n",
    "There is no shortage of things to learn in Docker.\n",
    "\n",
    "## Conclusion\n",
    "Docker is a technology I can apply to my Python development work.  This blog has been written in a application running in my Docker container. \n",
    "I would like to further investigate the potential of Docker to benefit the Python community, with Dockers superior virtualization and portability between environments and devices. \n",
    "Docker fits neatly with my interest in linux and study of linux system administration.\n",
    "I am interested in progressing my Docker skills, moving beyond the Docker fundamentals, and learning the advanced Docker tools and techniques."
   ]
  }
 ],
 "metadata": {
  "kernelspec": {
   "display_name": "Python 3",
   "language": "python",
   "name": "python3"
  },
  "language_info": {
   "codemirror_mode": {
    "name": "ipython",
    "version": 3
   },
   "file_extension": ".py",
   "mimetype": "text/x-python",
   "name": "python",
   "nbconvert_exporter": "python",
   "pygments_lexer": "ipython3",
   "version": "3.4.3"
  }
 },
 "nbformat": 4,
 "nbformat_minor": 0
}
