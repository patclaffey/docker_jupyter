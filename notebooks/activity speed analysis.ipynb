{
 "cells": [
  {
   "cell_type": "code",
   "execution_count": 1,
   "metadata": {
    "collapsed": true
   },
   "outputs": [],
   "source": [
    "#Here are the librarys we need to import\n",
    "%matplotlib inline\n",
    "import matplotlib.pyplot as plt\n",
    "import xml.etree.ElementTree as etree \n",
    "from datetime import datetime\n",
    "import os\n",
    "import json\n",
    "import pandas as pd\n",
    "import numpy as np\n",
    "from collections import Counter"
   ]
  },
  {
   "cell_type": "code",
   "execution_count": 2,
   "metadata": {
    "collapsed": false
   },
   "outputs": [
    {
     "name": "stdout",
     "output_type": "stream",
     "text": [
      "Input file is (full path)   /opt/notebook/data/csv/activity_speed.csv\n"
     ]
    }
   ],
   "source": [
    "#Do all the file names and paths handling\n",
    "\n",
    "#input_file_path :  this is full path descriptor of proprietary input file\n",
    "#output_file_path :  this is full path descriptor of json output file\n",
    "\n",
    "input_dir = \"/opt/notebook/data/csv\"\n",
    "input_file = 'activity_speed' + '.csv'\n",
    "input_file_path = os.path.join(input_dir , input_file)\n",
    "print (\"Input file is (full path)  \", input_file_path)"
   ]
  },
  {
   "cell_type": "code",
   "execution_count": 3,
   "metadata": {
    "collapsed": true
   },
   "outputs": [],
   "source": [
    "df = pd.read_csv(input_file_path, index_col = 'time',  parse_dates=True)"
   ]
  },
  {
   "cell_type": "code",
   "execution_count": 4,
   "metadata": {
    "collapsed": false
   },
   "outputs": [
    {
     "data": {
      "text/html": [
       "<div style=\"max-height:1000px;max-width:1500px;overflow:auto;\">\n",
       "<table border=\"1\" class=\"dataframe\">\n",
       "  <thead>\n",
       "    <tr style=\"text-align: right;\">\n",
       "      <th></th>\n",
       "      <th>distance_diff</th>\n",
       "      <th>time_diff</th>\n",
       "      <th>speed</th>\n",
       "      <th>moving</th>\n",
       "      <th>breaks</th>\n",
       "    </tr>\n",
       "  </thead>\n",
       "  <tbody>\n",
       "    <tr>\n",
       "      <th>count</th>\n",
       "      <td> 5358.000000</td>\n",
       "      <td> 5358.000000</td>\n",
       "      <td> 5358.000000</td>\n",
       "      <td>       5358</td>\n",
       "      <td>         5358</td>\n",
       "    </tr>\n",
       "    <tr>\n",
       "      <th>mean</th>\n",
       "      <td>   19.660904</td>\n",
       "      <td>    3.428891</td>\n",
       "      <td>   25.820063</td>\n",
       "      <td>  0.9925345</td>\n",
       "      <td> 0.0003732736</td>\n",
       "    </tr>\n",
       "    <tr>\n",
       "      <th>std</th>\n",
       "      <td>   18.063191</td>\n",
       "      <td>   32.195810</td>\n",
       "      <td>    9.102339</td>\n",
       "      <td> 0.08608787</td>\n",
       "      <td>   0.01931849</td>\n",
       "    </tr>\n",
       "    <tr>\n",
       "      <th>min</th>\n",
       "      <td>    0.000000</td>\n",
       "      <td>    1.000000</td>\n",
       "      <td>    0.000000</td>\n",
       "      <td>      False</td>\n",
       "      <td>        False</td>\n",
       "    </tr>\n",
       "    <tr>\n",
       "      <th>25%</th>\n",
       "      <td>    6.931396</td>\n",
       "      <td>    1.000000</td>\n",
       "      <td>   20.300000</td>\n",
       "      <td>          1</td>\n",
       "      <td>            0</td>\n",
       "    </tr>\n",
       "    <tr>\n",
       "      <th>50%</th>\n",
       "      <td>   11.113281</td>\n",
       "      <td>    1.000000</td>\n",
       "      <td>   25.900000</td>\n",
       "      <td>          1</td>\n",
       "      <td>            0</td>\n",
       "    </tr>\n",
       "    <tr>\n",
       "      <th>75%</th>\n",
       "      <td>   28.084473</td>\n",
       "      <td>    4.000000</td>\n",
       "      <td>   30.800000</td>\n",
       "      <td>          1</td>\n",
       "      <td>            0</td>\n",
       "    </tr>\n",
       "    <tr>\n",
       "      <th>max</th>\n",
       "      <td>   68.839844</td>\n",
       "      <td> 1775.000000</td>\n",
       "      <td>   67.400000</td>\n",
       "      <td>       True</td>\n",
       "      <td>         True</td>\n",
       "    </tr>\n",
       "  </tbody>\n",
       "</table>\n",
       "<p>8 rows × 5 columns</p>\n",
       "</div>"
      ],
      "text/plain": [
       "       distance_diff    time_diff        speed      moving        breaks\n",
       "count    5358.000000  5358.000000  5358.000000        5358          5358\n",
       "mean       19.660904     3.428891    25.820063   0.9925345  0.0003732736\n",
       "std        18.063191    32.195810     9.102339  0.08608787    0.01931849\n",
       "min         0.000000     1.000000     0.000000       False         False\n",
       "25%         6.931396     1.000000    20.300000           1             0\n",
       "50%        11.113281     1.000000    25.900000           1             0\n",
       "75%        28.084473     4.000000    30.800000           1             0\n",
       "max        68.839844  1775.000000    67.400000        True          True\n",
       "\n",
       "[8 rows x 5 columns]"
      ]
     },
     "execution_count": 4,
     "metadata": {},
     "output_type": "execute_result"
    }
   ],
   "source": [
    "df.describe()"
   ]
  },
  {
   "cell_type": "code",
   "execution_count": 5,
   "metadata": {
    "collapsed": false
   },
   "outputs": [
    {
     "data": {
      "text/html": [
       "<div style=\"max-height:1000px;max-width:1500px;overflow:auto;\">\n",
       "<table border=\"1\" class=\"dataframe\">\n",
       "  <thead>\n",
       "    <tr style=\"text-align: right;\">\n",
       "      <th></th>\n",
       "      <th>distance_diff</th>\n",
       "      <th>time_diff</th>\n",
       "      <th>speed</th>\n",
       "      <th>moving</th>\n",
       "      <th>breaks</th>\n",
       "    </tr>\n",
       "    <tr>\n",
       "      <th>time</th>\n",
       "      <th></th>\n",
       "      <th></th>\n",
       "      <th></th>\n",
       "      <th></th>\n",
       "      <th></th>\n",
       "    </tr>\n",
       "  </thead>\n",
       "  <tbody>\n",
       "    <tr>\n",
       "      <th>2015-09-13 06:25:51</th>\n",
       "      <td>  0.000000</td>\n",
       "      <td> 1</td>\n",
       "      <td>  0.0</td>\n",
       "      <td> False</td>\n",
       "      <td> False</td>\n",
       "    </tr>\n",
       "    <tr>\n",
       "      <th>2015-09-13 06:25:56</th>\n",
       "      <td> 23.080000</td>\n",
       "      <td> 5</td>\n",
       "      <td> 16.6</td>\n",
       "      <td>  True</td>\n",
       "      <td> False</td>\n",
       "    </tr>\n",
       "    <tr>\n",
       "      <th>2015-09-13 06:25:57</th>\n",
       "      <td>  6.650002</td>\n",
       "      <td> 1</td>\n",
       "      <td> 23.9</td>\n",
       "      <td>  True</td>\n",
       "      <td> False</td>\n",
       "    </tr>\n",
       "    <tr>\n",
       "      <th>2015-09-13 06:26:00</th>\n",
       "      <td>  5.910000</td>\n",
       "      <td> 3</td>\n",
       "      <td>  7.1</td>\n",
       "      <td>  True</td>\n",
       "      <td> False</td>\n",
       "    </tr>\n",
       "    <tr>\n",
       "      <th>2015-09-13 06:26:03</th>\n",
       "      <td> 11.439999</td>\n",
       "      <td> 3</td>\n",
       "      <td> 13.7</td>\n",
       "      <td>  True</td>\n",
       "      <td> False</td>\n",
       "    </tr>\n",
       "  </tbody>\n",
       "</table>\n",
       "<p>5 rows × 5 columns</p>\n",
       "</div>"
      ],
      "text/plain": [
       "                     distance_diff  time_diff  speed moving breaks\n",
       "time                                                              \n",
       "2015-09-13 06:25:51       0.000000          1    0.0  False  False\n",
       "2015-09-13 06:25:56      23.080000          5   16.6   True  False\n",
       "2015-09-13 06:25:57       6.650002          1   23.9   True  False\n",
       "2015-09-13 06:26:00       5.910000          3    7.1   True  False\n",
       "2015-09-13 06:26:03      11.439999          3   13.7   True  False\n",
       "\n",
       "[5 rows x 5 columns]"
      ]
     },
     "execution_count": 5,
     "metadata": {},
     "output_type": "execute_result"
    }
   ],
   "source": [
    "df.head()"
   ]
  },
  {
   "cell_type": "code",
   "execution_count": null,
   "metadata": {
    "collapsed": true
   },
   "outputs": [],
   "source": []
  }
 ],
 "metadata": {
  "kernelspec": {
   "display_name": "Python 3",
   "language": "python",
   "name": "python3"
  },
  "language_info": {
   "codemirror_mode": {
    "name": "ipython",
    "version": 3
   },
   "file_extension": ".py",
   "mimetype": "text/x-python",
   "name": "python",
   "nbconvert_exporter": "python",
   "pygments_lexer": "ipython3",
   "version": "3.4.0"
  }
 },
 "nbformat": 4,
 "nbformat_minor": 0
}
