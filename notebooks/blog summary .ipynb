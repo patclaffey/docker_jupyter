{
 "cells": [
  {
   "cell_type": "markdown",
   "metadata": {},
   "source": [
    "This blog discusses using Python Analytics to develop personalized performance insights for the serious athlete.  All the analytics displayed in this blog has been developed in Python from a raw data file containing sensor data.  This blog looks at comparing the accuracy of analytics derived from Python with external sites.  The power of Python analytics lies in the possibility of producing new performance insights tailored to the individual athlete.  This blog suggests some futher directions that can be taken to develop new insights for the serious athlete.\n",
    "\n",
    "\n",
    "## Standard Cycling Analytics\n",
    "The two most common approaches to analysing cycling activity are over distance and over time.  This section takes a single bike ride from the Great Dublin Cycle.  It uses Python powered analytics to reproduce the common summary metrics and visualizations found on web-sites such as Garmin and Strava.  This allows us to compare and validate the output from Python with external web-sites.\n",
    "\n",
    "\n",
    "\n",
    "### Cycling Analytics Over Distance\n",
    "\n",
    "A common report on cycling activity is to plot data over distance, typically in kilometers.  The report below shows the Python output for the cycle over distance.  It also gives a selection of the summary stats.  The Python summary stats and plots can be shown to be very accurate by cross-checking them against the comparable results from Garmin and Strava.\n",
    "\n",
    "<img src=\"summary_distance.png\">\n",
    "\n",
    "\n",
    "### Cycling Analytics Over Time\n",
    "\n",
    "It is very common to report cycling metrics over time.  The time based report needs to tally with the distance report - so waiting time, break times and other non-moving times are filtered out.  By filtering out these non-moving times the report also reconciles with the data the cyclist saw live during the ride.  It is common to report time this way in external web-sites.  The reprot below is produced from the Python system.  The summary stats do not change - however the horizontal axis is now activity time in hours, minutes and seconds.  The maximum time is the duration of actual time spend cycling during the event\n",
    "\n",
    "<img src=\"summary_activity_time.png\">\n",
    "\n",
    "\n",
    "\n",
    "## Developing Personalized Insights for the Athlete\n",
    "\n",
    "The purpose of using Python to analyse cycling data is to deliver personalized insights into activity data for the serious athlete.  \n",
    "\n",
    "### Cycling Data showing local time and breaks\n",
    "<img src=\"summary_local_time.png\">\n",
    "\n",
    "### new metrics\n",
    "\n",
    "\n",
    "### new analytics\n",
    "\n",
    "\n",
    "## Conclusions\n",
    "\n",
    "\n",
    "\n",
    "For many years I have been interested in running and biking - and using technology to measure and analyze this activity.  I use a Garmin GPS enabled bike computer.  This gives me that stardard time, distance and speed stats that almost all GSP enabled apps give.  However when I bike I have additional sensors connected to the bike computer.  These allow the bike computer to also capture my heart-rate, the bike cadence (pedalling strokes per minute) and altitude.  All this data is saved during the ride onto a data file on the bike computer.  For years I have uploaded these data files to web-sides such as Garmin and Strava for data analytics.\n",
    "\n",
    "This blog discusses a new approach to analyzing this data. It discusses pulling this data into the Python Pandas progamming platform for data analytics.  Python is major open source computer language that powers data science.  Pandas is the analytics platform in Python developed primarily for use in the financial service industry.  The blog looks at the early results of applying the Python Pandas to analysing cycling data.\n",
    "\n",
    "*******\n",
    "\n",
    "\n",
    "Running and biking are particularly suited for traking using GPS enabled devices such as smart phones, GPS enabled wrist watches or bike computers.  For biking I use a Garmin Edge 500 bike computer.  Smart phones, and all other GPS enabled devices, give time, distance and speed by default.  The Edge 500 gives these metrics also and more - it also gives altitude, heart rate, cadence and temperature.  \n",
    "\n",
    "A bike computer, such as my Edge 500, has two basic functions.  On the road it gives a real time display of activity information such as speed, heart rate, cadence, distance travelled and elapsed time.  It also saves all this activity data on the device so that it can be uploaded after the activity and analysed.  Two common web-sites for analyzing such data are Garmin and Strava.  In this blog I describe how I have pulled this bike data into Python and developed programs to do a similar analysis to these web-sites.\n",
    "\n",
    "In my opinion web-sites such as Garmin and Strava provide very little real analytics that is useful to the serious athlete.  The data analytics from these web-sites is basic and focuses on giving summarized, aggregate level data.  Its a one size fits all approach.  My first task in delivering personalized analytics is to develop similiar summarized reports using Python.  \n",
    "\n",
    "The figure below shows the aggregate level data and graphs of speed, heart rate, cadence and altitude from Python.  The graphs shows this data over local time.  The greyed out areas represents waiting times or breaks.  The first greyed out area represents a wait of about 30 minutes before the event start.  The second greyed out area represents the wait at the event feeding station, about 66km into the 100km event.  Note these greyed out areas are not represented on the Strave or Garmin web-sites: these are a visualization specific to the Python analysis.  The greyed out areas make clear that this is actually a composite activities.\n",
    "\n",
    "\n",
    "\n"
   ]
  },
  {
   "cell_type": "code",
   "execution_count": null,
   "metadata": {
    "collapsed": false
   },
   "outputs": [],
   "source": [
    "from IPython.display import Image\n",
    "#Image(filename='/opt/jupyter/data/test.png') "
   ]
  },
  {
   "cell_type": "code",
   "execution_count": null,
   "metadata": {
    "collapsed": false
   },
   "outputs": [],
   "source": [
    "!pwd"
   ]
  },
  {
   "cell_type": "code",
   "execution_count": null,
   "metadata": {
    "collapsed": true
   },
   "outputs": [],
   "source": []
  }
 ],
 "metadata": {
  "kernelspec": {
   "display_name": "Python 3",
   "language": "python",
   "name": "python3"
  },
  "language_info": {
   "codemirror_mode": {
    "name": "ipython",
    "version": 3
   },
   "file_extension": ".py",
   "mimetype": "text/x-python",
   "name": "python",
   "nbconvert_exporter": "python",
   "pygments_lexer": "ipython3",
   "version": "3.4.0"
  }
 },
 "nbformat": 4,
 "nbformat_minor": 0
}
