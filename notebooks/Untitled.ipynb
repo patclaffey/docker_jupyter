{
 "cells": [
  {
   "cell_type": "code",
   "execution_count": 1,
   "metadata": {
    "collapsed": true
   },
   "outputs": [],
   "source": [
    "#Import Python Libraries\n",
    "%matplotlib inline\n",
    "import matplotlib.pyplot as plt\n",
    "import matplotlib.dates as dates\n",
    "from matplotlib.ticker import FuncFormatter, MultipleLocator\n",
    "\n",
    "import xml.etree.ElementTree as etree \n",
    "from datetime import datetime, timedelta\n",
    "import os\n",
    "import json\n",
    "import pandas as pd\n",
    "import numpy as np\n",
    "from pytz import common_timezones, all_timezones, timezone"
   ]
  },
  {
   "cell_type": "code",
   "execution_count": 2,
   "metadata": {
    "collapsed": false
   },
   "outputs": [
    {
     "name": "stdout",
     "output_type": "stream",
     "text": [
      "Input file is (full path)   /opt/jupyter/data/csv/activity_898238015_30.csv\n",
      "Output file is (full path)   /opt/jupyter/data/csv/activity_898238015_40.csv\n"
     ]
    }
   ],
   "source": [
    "# Define name and path of data file\n",
    "input_file = 'activity_898238015_30.csv'\n",
    "input_dir = os.path.join(\"/\", \"opt\",\"jupyter\",\"data\",\"csv\" )\n",
    "input_file_path = os.path.join(input_dir , input_file)\n",
    "\n",
    "output_file = 'activity_898238015_40.csv'\n",
    "output_dir = os.path.join(\"/\", \"opt\",\"jupyter\",\"data\",\"csv\" )\n",
    "output_file_path = os.path.join(input_dir , output_file)\n",
    "\n",
    "print (\"Input file is (full path)  \", input_file_path)\n",
    "print (\"Output file is (full path)  \", output_file_path)\n"
   ]
  },
  {
   "cell_type": "code",
   "execution_count": 3,
   "metadata": {
    "collapsed": true
   },
   "outputs": [],
   "source": [
    "# Load data file into a Pandas data frame for inspection\n",
    "df = pd.read_csv(input_file_path, index_col = 'time',  parse_dates=True)\n",
    "\n",
    "# Define and set data source time zone\n",
    "tz_source = 'UTC'\n",
    "# Set timezone in our data frame\n",
    "df = df.tz_localize( tz_source )\n",
    "\n",
    "# Convert to local time zone - Dublin, Ireland\n",
    "tz_local = timezone('Europe/Dublin')\n",
    "df = df.tz_convert(tz_local  )"
   ]
  },
  {
   "cell_type": "code",
   "execution_count": 4,
   "metadata": {
    "collapsed": true
   },
   "outputs": [],
   "source": [
    "df_moving = df[df.moving].copy()\n",
    "df_moving = df_moving.reset_index()\n",
    "df_moving['interval10'] = df_moving.distance.apply(lambda x: (int (x / 10) + 1) * 10 )"
   ]
  },
  {
   "cell_type": "code",
   "execution_count": 5,
   "metadata": {
    "collapsed": false
   },
   "outputs": [
    {
     "data": {
      "text/html": [
       "<div>\n",
       "<table border=\"1\" class=\"dataframe\">\n",
       "  <thead>\n",
       "    <tr style=\"text-align: right;\">\n",
       "      <th></th>\n",
       "      <th>altitude</th>\n",
       "      <th>cadence</th>\n",
       "      <th>distance</th>\n",
       "      <th>heart_rate</th>\n",
       "      <th>latitude</th>\n",
       "      <th>longitude</th>\n",
       "      <th>time_diff</th>\n",
       "      <th>breaks</th>\n",
       "      <th>distance_diff</th>\n",
       "      <th>speed</th>\n",
       "      <th>moving</th>\n",
       "    </tr>\n",
       "    <tr>\n",
       "      <th>time</th>\n",
       "      <th></th>\n",
       "      <th></th>\n",
       "      <th></th>\n",
       "      <th></th>\n",
       "      <th></th>\n",
       "      <th></th>\n",
       "      <th></th>\n",
       "      <th></th>\n",
       "      <th></th>\n",
       "      <th></th>\n",
       "      <th></th>\n",
       "    </tr>\n",
       "  </thead>\n",
       "  <tbody>\n",
       "    <tr>\n",
       "      <th>2015-09-13 07:25:51+01:00</th>\n",
       "      <td>79.400002</td>\n",
       "      <td>76</td>\n",
       "      <td>5.010</td>\n",
       "      <td>103</td>\n",
       "      <td>53.363708</td>\n",
       "      <td>-6.190183</td>\n",
       "      <td>1</td>\n",
       "      <td>False</td>\n",
       "      <td>0.000</td>\n",
       "      <td>0.0000</td>\n",
       "      <td>False</td>\n",
       "    </tr>\n",
       "    <tr>\n",
       "      <th>2015-09-13 07:25:52+01:00</th>\n",
       "      <td>81.680002</td>\n",
       "      <td>77</td>\n",
       "      <td>9.626</td>\n",
       "      <td>104</td>\n",
       "      <td>53.363718</td>\n",
       "      <td>-6.190250</td>\n",
       "      <td>0</td>\n",
       "      <td>False</td>\n",
       "      <td>4.616</td>\n",
       "      <td>0.0000</td>\n",
       "      <td>False</td>\n",
       "    </tr>\n",
       "    <tr>\n",
       "      <th>2015-09-13 07:25:53+01:00</th>\n",
       "      <td>83.960002</td>\n",
       "      <td>79</td>\n",
       "      <td>14.242</td>\n",
       "      <td>104</td>\n",
       "      <td>53.363729</td>\n",
       "      <td>-6.190317</td>\n",
       "      <td>0</td>\n",
       "      <td>False</td>\n",
       "      <td>4.616</td>\n",
       "      <td>11.0784</td>\n",
       "      <td>True</td>\n",
       "    </tr>\n",
       "    <tr>\n",
       "      <th>2015-09-13 07:25:54+01:00</th>\n",
       "      <td>86.240002</td>\n",
       "      <td>80</td>\n",
       "      <td>18.858</td>\n",
       "      <td>105</td>\n",
       "      <td>53.363740</td>\n",
       "      <td>-6.190384</td>\n",
       "      <td>0</td>\n",
       "      <td>False</td>\n",
       "      <td>4.616</td>\n",
       "      <td>16.6176</td>\n",
       "      <td>True</td>\n",
       "    </tr>\n",
       "    <tr>\n",
       "      <th>2015-09-13 07:25:55+01:00</th>\n",
       "      <td>88.520003</td>\n",
       "      <td>82</td>\n",
       "      <td>23.474</td>\n",
       "      <td>105</td>\n",
       "      <td>53.363750</td>\n",
       "      <td>-6.190451</td>\n",
       "      <td>0</td>\n",
       "      <td>False</td>\n",
       "      <td>4.616</td>\n",
       "      <td>16.6176</td>\n",
       "      <td>True</td>\n",
       "    </tr>\n",
       "  </tbody>\n",
       "</table>\n",
       "</div>"
      ],
      "text/plain": [
       "                            altitude  cadence  distance  heart_rate  \\\n",
       "time                                                                  \n",
       "2015-09-13 07:25:51+01:00  79.400002       76     5.010         103   \n",
       "2015-09-13 07:25:52+01:00  81.680002       77     9.626         104   \n",
       "2015-09-13 07:25:53+01:00  83.960002       79    14.242         104   \n",
       "2015-09-13 07:25:54+01:00  86.240002       80    18.858         105   \n",
       "2015-09-13 07:25:55+01:00  88.520003       82    23.474         105   \n",
       "\n",
       "                            latitude  longitude  time_diff breaks  \\\n",
       "time                                                                \n",
       "2015-09-13 07:25:51+01:00  53.363708  -6.190183          1  False   \n",
       "2015-09-13 07:25:52+01:00  53.363718  -6.190250          0  False   \n",
       "2015-09-13 07:25:53+01:00  53.363729  -6.190317          0  False   \n",
       "2015-09-13 07:25:54+01:00  53.363740  -6.190384          0  False   \n",
       "2015-09-13 07:25:55+01:00  53.363750  -6.190451          0  False   \n",
       "\n",
       "                           distance_diff    speed moving  \n",
       "time                                                      \n",
       "2015-09-13 07:25:51+01:00          0.000   0.0000  False  \n",
       "2015-09-13 07:25:52+01:00          4.616   0.0000  False  \n",
       "2015-09-13 07:25:53+01:00          4.616  11.0784   True  \n",
       "2015-09-13 07:25:54+01:00          4.616  16.6176   True  \n",
       "2015-09-13 07:25:55+01:00          4.616  16.6176   True  "
      ]
     },
     "execution_count": 5,
     "metadata": {},
     "output_type": "execute_result"
    }
   ],
   "source": [
    "df.head()"
   ]
  },
  {
   "cell_type": "code",
   "execution_count": 13,
   "metadata": {
    "collapsed": false
   },
   "outputs": [
    {
     "data": {
      "text/plain": [
       "False"
      ]
     },
     "execution_count": 13,
     "metadata": {},
     "output_type": "execute_result"
    }
   ],
   "source": [
    "df.iloc[:1].breaks.values[0]\n"
   ]
  },
  {
   "cell_type": "code",
   "execution_count": null,
   "metadata": {
    "collapsed": true
   },
   "outputs": [],
   "source": [
    "df.iloc[:1].breaks"
   ]
  },
  {
   "cell_type": "code",
   "execution_count": 20,
   "metadata": {
    "collapsed": false
   },
   "outputs": [
    {
     "data": {
      "text/plain": [
       "False"
      ]
     },
     "execution_count": 20,
     "metadata": {},
     "output_type": "execute_result"
    }
   ],
   "source": [
    "df.breaks[0]"
   ]
  },
  {
   "cell_type": "code",
   "execution_count": 43,
   "metadata": {
    "collapsed": false
   },
   "outputs": [],
   "source": [
    "def define_segments():\n",
    "    initial_value = df.iloc[:1].breaks.values[0]\n",
    "    last_value = initial_value\n",
    "    start_loc = 0\n",
    "    \n",
    "    for loc, val in enumerate(df.breaks):\n",
    "        if val != last_value:\n",
    "            #print('value of iloc is ' + str(loc))\n",
    "            \n",
    "            yield (start_loc,loc - 1,last_value)\n",
    "            last_value = val\n",
    "            start_loc = loc\n",
    "    yield (start_loc,loc, val)\n",
    "    "
   ]
  },
  {
   "cell_type": "code",
   "execution_count": 53,
   "metadata": {
    "collapsed": false
   },
   "outputs": [
    {
     "name": "stdout",
     "output_type": "stream",
     "text": [
      "(0, 1189, False)\n",
      "(2736, 11817, False)\n",
      "(13593, 18371, False)\n"
     ]
    }
   ],
   "source": [
    "seg = []\n",
    "for i in xx():\n",
    "    if ~i[2]:\n",
    "        seg.append(df.iloc[i[0]:i[1]+1])\n",
    "        print (str(i))\n"
   ]
  },
  {
   "cell_type": "code",
   "execution_count": 56,
   "metadata": {
    "collapsed": false
   },
   "outputs": [
    {
     "data": {
      "text/html": [
       "<div>\n",
       "<table border=\"1\" class=\"dataframe\">\n",
       "  <thead>\n",
       "    <tr style=\"text-align: right;\">\n",
       "      <th></th>\n",
       "      <th>altitude</th>\n",
       "      <th>cadence</th>\n",
       "      <th>distance</th>\n",
       "      <th>heart_rate</th>\n",
       "      <th>latitude</th>\n",
       "      <th>longitude</th>\n",
       "      <th>time_diff</th>\n",
       "      <th>breaks</th>\n",
       "      <th>distance_diff</th>\n",
       "      <th>speed</th>\n",
       "      <th>moving</th>\n",
       "    </tr>\n",
       "    <tr>\n",
       "      <th>time</th>\n",
       "      <th></th>\n",
       "      <th></th>\n",
       "      <th></th>\n",
       "      <th></th>\n",
       "      <th></th>\n",
       "      <th></th>\n",
       "      <th></th>\n",
       "      <th></th>\n",
       "      <th></th>\n",
       "      <th></th>\n",
       "      <th></th>\n",
       "    </tr>\n",
       "  </thead>\n",
       "  <tbody>\n",
       "    <tr>\n",
       "      <th>2015-09-13 07:45:36+01:00</th>\n",
       "      <td>80.199997</td>\n",
       "      <td>0</td>\n",
       "      <td>6910.22998</td>\n",
       "      <td>104</td>\n",
       "      <td>53.349805</td>\n",
       "      <td>-6.277627</td>\n",
       "      <td>0</td>\n",
       "      <td>False</td>\n",
       "      <td>0</td>\n",
       "      <td>0</td>\n",
       "      <td>False</td>\n",
       "    </tr>\n",
       "    <tr>\n",
       "      <th>2015-09-13 07:45:37+01:00</th>\n",
       "      <td>80.199997</td>\n",
       "      <td>0</td>\n",
       "      <td>6910.22998</td>\n",
       "      <td>104</td>\n",
       "      <td>53.349804</td>\n",
       "      <td>-6.277628</td>\n",
       "      <td>0</td>\n",
       "      <td>False</td>\n",
       "      <td>0</td>\n",
       "      <td>0</td>\n",
       "      <td>False</td>\n",
       "    </tr>\n",
       "    <tr>\n",
       "      <th>2015-09-13 07:45:38+01:00</th>\n",
       "      <td>80.199997</td>\n",
       "      <td>0</td>\n",
       "      <td>6910.22998</td>\n",
       "      <td>104</td>\n",
       "      <td>53.349804</td>\n",
       "      <td>-6.277630</td>\n",
       "      <td>0</td>\n",
       "      <td>False</td>\n",
       "      <td>0</td>\n",
       "      <td>0</td>\n",
       "      <td>False</td>\n",
       "    </tr>\n",
       "    <tr>\n",
       "      <th>2015-09-13 07:45:39+01:00</th>\n",
       "      <td>80.199997</td>\n",
       "      <td>0</td>\n",
       "      <td>6910.22998</td>\n",
       "      <td>104</td>\n",
       "      <td>53.349803</td>\n",
       "      <td>-6.277631</td>\n",
       "      <td>0</td>\n",
       "      <td>False</td>\n",
       "      <td>0</td>\n",
       "      <td>0</td>\n",
       "      <td>False</td>\n",
       "    </tr>\n",
       "    <tr>\n",
       "      <th>2015-09-13 07:45:40+01:00</th>\n",
       "      <td>80.199997</td>\n",
       "      <td>0</td>\n",
       "      <td>6910.22998</td>\n",
       "      <td>104</td>\n",
       "      <td>53.349803</td>\n",
       "      <td>-6.277632</td>\n",
       "      <td>10</td>\n",
       "      <td>False</td>\n",
       "      <td>0</td>\n",
       "      <td>0</td>\n",
       "      <td>False</td>\n",
       "    </tr>\n",
       "  </tbody>\n",
       "</table>\n",
       "</div>"
      ],
      "text/plain": [
       "                            altitude  cadence    distance  heart_rate  \\\n",
       "time                                                                    \n",
       "2015-09-13 07:45:36+01:00  80.199997        0  6910.22998         104   \n",
       "2015-09-13 07:45:37+01:00  80.199997        0  6910.22998         104   \n",
       "2015-09-13 07:45:38+01:00  80.199997        0  6910.22998         104   \n",
       "2015-09-13 07:45:39+01:00  80.199997        0  6910.22998         104   \n",
       "2015-09-13 07:45:40+01:00  80.199997        0  6910.22998         104   \n",
       "\n",
       "                            latitude  longitude  time_diff breaks  \\\n",
       "time                                                                \n",
       "2015-09-13 07:45:36+01:00  53.349805  -6.277627          0  False   \n",
       "2015-09-13 07:45:37+01:00  53.349804  -6.277628          0  False   \n",
       "2015-09-13 07:45:38+01:00  53.349804  -6.277630          0  False   \n",
       "2015-09-13 07:45:39+01:00  53.349803  -6.277631          0  False   \n",
       "2015-09-13 07:45:40+01:00  53.349803  -6.277632         10  False   \n",
       "\n",
       "                           distance_diff  speed moving  \n",
       "time                                                    \n",
       "2015-09-13 07:45:36+01:00              0      0  False  \n",
       "2015-09-13 07:45:37+01:00              0      0  False  \n",
       "2015-09-13 07:45:38+01:00              0      0  False  \n",
       "2015-09-13 07:45:39+01:00              0      0  False  \n",
       "2015-09-13 07:45:40+01:00              0      0  False  "
      ]
     },
     "execution_count": 56,
     "metadata": {},
     "output_type": "execute_result"
    }
   ],
   "source": [
    "seg[0].tail()"
   ]
  },
  {
   "cell_type": "code",
   "execution_count": null,
   "metadata": {
    "collapsed": true
   },
   "outputs": [],
   "source": []
  }
 ],
 "metadata": {
  "kernelspec": {
   "display_name": "Python 3",
   "language": "python",
   "name": "python3"
  },
  "language_info": {
   "codemirror_mode": {
    "name": "ipython",
    "version": 3
   },
   "file_extension": ".py",
   "mimetype": "text/x-python",
   "name": "python",
   "nbconvert_exporter": "python",
   "pygments_lexer": "ipython3",
   "version": "3.4.0"
  }
 },
 "nbformat": 4,
 "nbformat_minor": 0
}
