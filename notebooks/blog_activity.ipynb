{
 "cells": [
  {
   "cell_type": "markdown",
   "metadata": {},
   "source": [
    "## Analytics for Personal Activity\n",
    "\n",
    "In many ways the serious amateur runner or cyclist has been a pioneer in the (IOT) Internet Of Things space for more than a decade.  The serious amateur athlete logs their run or ride using a device such as the Garmin bike computer or Garmin GPS watch.  Today an iPhone or Android phone with an app such as Strava turns a smart phone into a virtual cycling or bike computer.  With wearable accessories, such as the FitBit bracelet,  anybody anywhere can log their physical activity, such as steps taken, and get reports on activity such as number of steps taken per day.\n",
    "\n",
    "Having done our work-out and logged our activity, what happens next?  In most cases we upload this data to the cloud and go to a proprietary website, such as Garmin or Strava or MapMyRide.  These cloud based solutions give dashboards which turns the data captured into information for the end user.  In general this data is highly aggregated and summarized - but serves the casual user well. \n",
    "\n",
    "There are a number of communities who are not well served by the current activity web sites\n",
    "- Serious amateur.  This group are interested in using the data collected from their activity to give them an edge and improve their performance.  The current data is too aggregated and too summarized to help the serious amateur.  Averages are useless to the athlete who wants to find that nugget of information that will shave seconds off their times.  This situation is even worse for the semi-professional athlete who is competing at national levels.\n",
    "- Choice in how to view their data.  The user today has almost no choice in how to view their activity data.  There are a handful of proprietary sites.  There have no choices or options in how to analyze the data.  If the insight they need is not delivered by the limited number of web-sites available then it is back to exercise harder - not smarter.\n",
    "- Open source community.  All the existing tools for analysing activity data are propietary and closed source.  The open source community can provide resources for diverse groups and communities to contribute to analysis of personal activity data.\n",
    "\n",
    "I have started to work on tools for analyzing activity information.  This software behind this is open source - its built on the Python programming language and data science toolkit.  All the software is available on my personal github account.\n",
    "\n",
    "\n",
    "\n",
    "\n",
    "\n"
   ]
  },
  {
   "cell_type": "markdown",
   "metadata": {
    "collapsed": true
   },
   "source": [
    "# Personalized Analysis of Personal Activity Data\n",
    "\n",
    "Cyclists are well known for our use of technology for performance enhancement.  The high performance materials in the modern road bike originated in the Formula 1 racing car industry.  The clothing cyclist wear are the most advanced on the planet and orginated in the skiing industry.  Cyclist have used bike computers to measure their performance for decades.  Before IoT (Internet of Things), Smart Phones, Apps, FitBits - cyclists have been logging personal activity data and analyzing the results.  Cyclists have always been at the cutting edge of collecting data for performance improvement - apparently the first device to measure a cycling metric was invented in 1895.\n",
    "\n",
    "I am interested is getting personalized analysis of cycling data. Take the Great Dublin Cycle, a 100km sportif cycle on Sept 11 2015 around Dublin.  I use the Garmin web-site and you can view [Garmin's analysis of my ride here](https://connect.garmin.com/modern/activity/898238015).  You can also check out the [Strava analysis of this ride](https://www.strava.com/activities/391934220/overview).  These web-sites cater well the casual or occasional cyclists - the weekend warrior cohort.\n",
    "\n",
    "But how well do these web-sites cater for the serious amateur or performance athlete?  This analysis is generic - each ride is analysed exactly the same way for every athlethe.  This means that the performance athlete cannot use this analysis to get an edge - every athlete gets exactly the same information.  The performance athlete asks unique questions of themselves and therefor of the data.  If an athlete has a new question of their data - they are blocked, they cannot get an answer.  The reports on these web-sites are what are termed \"canned reports\" - they provide standard answers to the standard most common questions answered of this data.  The performance athlete or serious amateur has to make do with common - and train harder, not smarter.\n",
    "\n",
    "Lets take another angle on this issue.  Who owns this performance data?  I believe the performance athlete does.  The athlete should therefor have a choice on how this performance data can be used for their benefit.  The performance athlete should be able to ask new and innovative questions of this data - and get the answers they need.  \n",
    "\n",
    "I have started to build a new platform for analyzing activity data such as cycling.  This platform is build on Python - the programming language and toolkit of the modern data scientist.  My goal is to provide customized analytics for the serious amateur all the way up to the professional cyclist.  This platform will be open sourced and made available though github.\n",
    "\n",
    "I am calling this a platform because familiar it is surprising complex to analyze this data.  Its like complex jig-saw puzzle of many interlocking parts that must come together in the end.  I have started to build out some of these pieces using Python based visualization technologies:\n",
    "-  speed and maximum speed calculation - I found that outlier data points as reported by the Garmin computer needed to be corrected.  Doing a basic speed calculation from scratch is far from a trivial task - bit I think the workbook outlines the solution\n",
    "- time transformaion.  This shows how the data set needs to be transformed for classical time series analysis.  This opens up the capability of applying the full data science time series tool-kit to this data.  Similiar tools that quants on Wall Street use to analyse finacial data\n",
    "\n",
    "In the early days of the automotive industry the Model T car was standardized.  Every customer got exactly the same Model T - right down to the car color.  When Henry Ford was challenged on the this he said that the customer could get any color they wanted \"Provided it was Black\".  Analytics of cycling data is in exactly the same place today.  Lets give the cyclist choice is how their data is analyzed.\n",
    "\n",
    "\n",
    "\n",
    "\n",
    "\n",
    "In my view as cyclists the technology we use may be the most advanced \n",
    "\n",
    "However there are communities of cyclists who are not well served by these solutions.  The serious amateur or semi-professional athlete makes serious demands of themself in terms of performance.  This demand for \n",
    "\n",
    "\n",
    "\n"
   ]
  },
  {
   "cell_type": "code",
   "execution_count": null,
   "metadata": {
    "collapsed": true
   },
   "outputs": [],
   "source": []
  }
 ],
 "metadata": {
  "kernelspec": {
   "display_name": "Python 3",
   "language": "python",
   "name": "python3"
  },
  "language_info": {
   "codemirror_mode": {
    "name": "ipython",
    "version": 3
   },
   "file_extension": ".py",
   "mimetype": "text/x-python",
   "name": "python",
   "nbconvert_exporter": "python",
   "pygments_lexer": "ipython3",
   "version": "3.4.0"
  }
 },
 "nbformat": 4,
 "nbformat_minor": 0
}
