{
 "cells": [
  {
   "cell_type": "code",
   "execution_count": 12,
   "metadata": {
    "collapsed": true
   },
   "outputs": [],
   "source": [
    "#Import Python Libraries\n",
    "\n",
    "%matplotlib inline\n",
    "import matplotlib.pyplot as plt\n",
    "import xml.etree.ElementTree as etree \n",
    "from datetime import datetime, timedelta\n",
    "import os\n",
    "import json\n",
    "import pandas as pd\n",
    "import numpy as np\n",
    "from pytz import common_timezones, all_timezones, timezone"
   ]
  },
  {
   "cell_type": "code",
   "execution_count": null,
   "metadata": {
    "collapsed": true
   },
   "outputs": [],
   "source": [
    "def get_file_path(file_name):\n",
    "    input_dir = os.path.join(\"/\", \"opt\",\"jupyter\",\"data\",\"csv\" )\n",
    "    input_file_path = os.path.join(input_dir , file_name)\n",
    "    return input_file_path\n",
    "\n",
    "#from admin_garmin import get_file_path\n",
    "input_file = 'activity_898238015_30.csv'\n",
    "output_file = 'activity_898238015_40.csv'\n",
    "\n",
    "\n",
    "input_file_path = get_file_path(input_file)\n",
    "output_file_path = get_file_path(output_file)\n"
   ]
  },
  {
   "cell_type": "code",
   "execution_count": 21,
   "metadata": {
    "collapsed": false
   },
   "outputs": [
    {
     "name": "stdout",
     "output_type": "stream",
     "text": [
      "Input file is (full path)   /opt/jupyter/data/csv/activity_898238015.tcx\n",
      "Output file is (full path)   /opt/jupyter/data/csv/activity_898238015.json\n"
     ]
    }
   ],
   "source": [
    "#activity_file = \"D:/downloads/activity_873783146.tcx\" # Naul cycle with Barry\n",
    "#activity_file = \"D:/downloads/activity_898238015.tcx\" # Great Dublin Cycle\n",
    "\n",
    "# Define name and path of data file\n",
    "# This data file contains a sub-set of activiy information relating to speed and time\n",
    "\n",
    "input_file = 'activity_898238015.tcx'  # Great Dublin Cycle\n",
    "input_dir = os.path.join(\"/\", \"opt\",\"jupyter\",\"data\",\"csv\" )\n",
    "input_file_path = os.path.join(input_dir , input_file)\n",
    "\n",
    "output_file = 'activity_898238015.json'\n",
    "output_dir = os.path.join(\"/\", \"opt\",\"jupyter\",\"data\",\"csv\" )\n",
    "output_file_path = os.path.join(input_dir , output_file)\n",
    "\n",
    "print (\"Input file is (full path)  \", input_file_path)\n",
    "print (\"Output file is (full path)  \", output_file_path)\n"
   ]
  },
  {
   "cell_type": "code",
   "execution_count": 14,
   "metadata": {
    "collapsed": false
   },
   "outputs": [
    {
     "name": "stdout",
     "output_type": "stream",
     "text": [
      "Print representation of root: <Element '{http://www.garmin.com/xmlschemas/TrainingCenterDatabase/v2}Activity' at 0x7fe9436deb38>\n",
      "Print root tag: {http://www.garmin.com/xmlschemas/TrainingCenterDatabase/v2}Activity\n",
      "Print root attribute: {'Sport': 'Biking'}\n",
      "Number of children for root is: 3\n",
      "Number of laps is: 1\n"
     ]
    }
   ],
   "source": [
    "import xml.etree.ElementTree as etree \n",
    "tree = etree.parse( input_file_path ) \n",
    "root = tree.getroot()[0][0]\n",
    "print(\"Print representation of root: \" + str(root) )\n",
    "print(\"Print root tag: \" + str(root.tag))\n",
    "print(\"Print root attribute: \" + str(root.attrib))\n",
    "print(\"Number of children for root is: \" + str(len(root)) )\n",
    "number_of_laps = len(root) - 2\n",
    "print(\"Number of laps is: \" + str( number_of_laps ) )"
   ]
  },
  {
   "cell_type": "code",
   "execution_count": 15,
   "metadata": {
    "collapsed": false
   },
   "outputs": [
    {
     "name": "stdout",
     "output_type": "stream",
     "text": [
      "<Element '{http://www.garmin.com/xmlschemas/TrainingCenterDatabase/v2}Id' at 0x7fe9436de7c8>\n",
      "<Element '{http://www.garmin.com/xmlschemas/TrainingCenterDatabase/v2}Lap' at 0x7fe9436dec78>\n",
      "<Element '{http://www.garmin.com/xmlschemas/TrainingCenterDatabase/v2}Creator' at 0x7fe9425549a8>\n"
     ]
    }
   ],
   "source": [
    "for i in root:\n",
    "    print (i)"
   ]
  },
  {
   "cell_type": "code",
   "execution_count": 16,
   "metadata": {
    "collapsed": true
   },
   "outputs": [],
   "source": [
    "# Create a List object called my_data\n",
    "\n",
    "my_data = []\n",
    "\n",
    "#for lap in [1,2,3]:\n",
    "for lap in range(1, number_of_laps + 1):\n",
    "    data = {}\n",
    "    for i in root[lap][9]:\n",
    "        #print (i)\n",
    "        if len(data) > 0:\n",
    "            my_data.append(data)\n",
    "        data = {}\n",
    "        for j in i:\n",
    "            \n",
    "            #print(j.tag + ' ' + j.text)\n",
    "            if \"Time\" in j.tag:\n",
    "                #print (\"Time is \" + j.text)\n",
    "                #data['time']= j.text\n",
    "                data['time'] = datetime.strptime(  j.text[0:19], \"%Y-%m-%dT%H:%M:%S\" )\n",
    "            elif \"DistanceMeters\" in j.tag:\n",
    "                #print (\"Distance is \" + j.text)\n",
    "                data['distance']= float(j.text)\n",
    "            elif \"HeartRateBpm\" in j.tag:\n",
    "                for k in j:\n",
    "                    #print (\"Heart Rate is \" +  k.text)\n",
    "                    data['heart_rate']= int(k.text)\n",
    "            elif \"Cadence\" in j.tag:\n",
    "                #print (\"Cadence is \" + j.text)\n",
    "                data['cadence']= int(j.text)\n",
    "            elif \"Altitude\" in j.tag:\n",
    "                #print (\"Cadence is \" + j.text)\n",
    "                data['altitude']= float(j.text)\n",
    "            elif \"Position\" in j.tag:\n",
    "                for k in j:\n",
    "                    #print (\"Heart Rate is \" +  k.text)\n",
    "                    if \"Latitude\" in k.tag:\n",
    "                        data['latitude']= float(k.text)\n",
    "                    elif \"Longitude\" in k.tag:\n",
    "                        data['longitude']= float(k.text)\n",
    "            else:\n",
    "                print(j.tag, j.text)\n",
    "    if len(data) > 0:\n",
    "        my_data.append(data)\n",
    "        #print data"
   ]
  },
  {
   "cell_type": "code",
   "execution_count": 19,
   "metadata": {
    "collapsed": false
   },
   "outputs": [
    {
     "data": {
      "text/plain": [
       "[{'altitude': 79.4000015258789,\n",
       "  'cadence': 76,\n",
       "  'distance': 5.010000228881836,\n",
       "  'heart_rate': 103,\n",
       "  'latitude': 53.36370773613453,\n",
       "  'longitude': -6.190182846039534,\n",
       "  'time': datetime.datetime(2015, 9, 13, 6, 25, 51)},\n",
       " {'altitude': 90.80000305175781,\n",
       "  'cadence': 83,\n",
       "  'distance': 28.09000015258789,\n",
       "  'heart_rate': 106,\n",
       "  'latitude': 53.363760793581605,\n",
       "  'longitude': -6.190518541261554,\n",
       "  'time': datetime.datetime(2015, 9, 13, 6, 25, 56)},\n",
       " {'altitude': 90.80000305175781,\n",
       "  'cadence': 84,\n",
       "  'distance': 34.7400016784668,\n",
       "  'heart_rate': 106,\n",
       "  'latitude': 53.36377898231149,\n",
       "  'longitude': -6.1906137596815825,\n",
       "  'time': datetime.datetime(2015, 9, 13, 6, 25, 57)}]"
      ]
     },
     "execution_count": 19,
     "metadata": {},
     "output_type": "execute_result"
    }
   ],
   "source": [
    "my_data[:3]"
   ]
  },
  {
   "cell_type": "code",
   "execution_count": 20,
   "metadata": {
    "collapsed": true
   },
   "outputs": [],
   "source": [
    "my_data_dict = { 'data_points': my_data }"
   ]
  },
  {
   "cell_type": "code",
   "execution_count": 27,
   "metadata": {
    "collapsed": false
   },
   "outputs": [],
   "source": [
    "date_handler = lambda obj: obj.isoformat() if isinstance(obj, datetime) else None\n",
    "import json\n",
    "with open(output_file_path, 'w') as outfile:\n",
    "    json.dump(my_data_dict, outfile,  default = date_handler)"
   ]
  },
  {
   "cell_type": "code",
   "execution_count": 30,
   "metadata": {
    "collapsed": false
   },
   "outputs": [],
   "source": [
    "with open(output_file_path, 'r') as json_data:\n",
    "    d = json.load(json_data)\n",
    "    "
   ]
  },
  {
   "cell_type": "code",
   "execution_count": 39,
   "metadata": {
    "collapsed": false
   },
   "outputs": [],
   "source": [
    "df2 = pd.DataFrame.from_dict(d['data_points'])"
   ]
  },
  {
   "cell_type": "code",
   "execution_count": 40,
   "metadata": {
    "collapsed": false
   },
   "outputs": [
    {
     "data": {
      "text/html": [
       "<div style=\"max-height:1000px;max-width:1500px;overflow:auto;\">\n",
       "<table border=\"1\" class=\"dataframe\">\n",
       "  <thead>\n",
       "    <tr style=\"text-align: right;\">\n",
       "      <th></th>\n",
       "      <th>altitude</th>\n",
       "      <th>cadence</th>\n",
       "      <th>distance</th>\n",
       "      <th>heart_rate</th>\n",
       "      <th>latitude</th>\n",
       "      <th>longitude</th>\n",
       "      <th>time</th>\n",
       "    </tr>\n",
       "  </thead>\n",
       "  <tbody>\n",
       "    <tr>\n",
       "      <th>0</th>\n",
       "      <td> 79.400002</td>\n",
       "      <td> 76</td>\n",
       "      <td>  5.010000</td>\n",
       "      <td> 103</td>\n",
       "      <td> 53.363708</td>\n",
       "      <td>-6.190183</td>\n",
       "      <td> 2015-09-13T06:25:51</td>\n",
       "    </tr>\n",
       "    <tr>\n",
       "      <th>1</th>\n",
       "      <td> 90.800003</td>\n",
       "      <td> 83</td>\n",
       "      <td> 28.090000</td>\n",
       "      <td> 106</td>\n",
       "      <td> 53.363761</td>\n",
       "      <td>-6.190519</td>\n",
       "      <td> 2015-09-13T06:25:56</td>\n",
       "    </tr>\n",
       "    <tr>\n",
       "      <th>2</th>\n",
       "      <td> 90.800003</td>\n",
       "      <td> 84</td>\n",
       "      <td> 34.740002</td>\n",
       "      <td> 106</td>\n",
       "      <td> 53.363779</td>\n",
       "      <td>-6.190614</td>\n",
       "      <td> 2015-09-13T06:25:57</td>\n",
       "    </tr>\n",
       "  </tbody>\n",
       "</table>\n",
       "<p>3 rows × 7 columns</p>\n",
       "</div>"
      ],
      "text/plain": [
       "    altitude  cadence   distance  heart_rate   latitude  longitude  \\\n",
       "0  79.400002       76   5.010000         103  53.363708  -6.190183   \n",
       "1  90.800003       83  28.090000         106  53.363761  -6.190519   \n",
       "2  90.800003       84  34.740002         106  53.363779  -6.190614   \n",
       "\n",
       "                  time  \n",
       "0  2015-09-13T06:25:51  \n",
       "1  2015-09-13T06:25:56  \n",
       "2  2015-09-13T06:25:57  \n",
       "\n",
       "[3 rows x 7 columns]"
      ]
     },
     "execution_count": 40,
     "metadata": {},
     "output_type": "execute_result"
    }
   ],
   "source": [
    "df2[:3]"
   ]
  },
  {
   "cell_type": "code",
   "execution_count": 41,
   "metadata": {
    "collapsed": true
   },
   "outputs": [],
   "source": [
    "df2.set_index(['time'], inplace=True)"
   ]
  },
  {
   "cell_type": "code",
   "execution_count": 42,
   "metadata": {
    "collapsed": false
   },
   "outputs": [
    {
     "data": {
      "text/html": [
       "<div style=\"max-height:1000px;max-width:1500px;overflow:auto;\">\n",
       "<table border=\"1\" class=\"dataframe\">\n",
       "  <thead>\n",
       "    <tr style=\"text-align: right;\">\n",
       "      <th></th>\n",
       "      <th>altitude</th>\n",
       "      <th>cadence</th>\n",
       "      <th>distance</th>\n",
       "      <th>heart_rate</th>\n",
       "      <th>latitude</th>\n",
       "      <th>longitude</th>\n",
       "    </tr>\n",
       "    <tr>\n",
       "      <th>time</th>\n",
       "      <th></th>\n",
       "      <th></th>\n",
       "      <th></th>\n",
       "      <th></th>\n",
       "      <th></th>\n",
       "      <th></th>\n",
       "    </tr>\n",
       "  </thead>\n",
       "  <tbody>\n",
       "    <tr>\n",
       "      <th>2015-09-13T06:25:51</th>\n",
       "      <td> 79.400002</td>\n",
       "      <td> 76</td>\n",
       "      <td>  5.010000</td>\n",
       "      <td> 103</td>\n",
       "      <td> 53.363708</td>\n",
       "      <td>-6.190183</td>\n",
       "    </tr>\n",
       "    <tr>\n",
       "      <th>2015-09-13T06:25:56</th>\n",
       "      <td> 90.800003</td>\n",
       "      <td> 83</td>\n",
       "      <td> 28.090000</td>\n",
       "      <td> 106</td>\n",
       "      <td> 53.363761</td>\n",
       "      <td>-6.190519</td>\n",
       "    </tr>\n",
       "    <tr>\n",
       "      <th>2015-09-13T06:25:57</th>\n",
       "      <td> 90.800003</td>\n",
       "      <td> 84</td>\n",
       "      <td> 34.740002</td>\n",
       "      <td> 106</td>\n",
       "      <td> 53.363779</td>\n",
       "      <td>-6.190614</td>\n",
       "    </tr>\n",
       "  </tbody>\n",
       "</table>\n",
       "<p>3 rows × 6 columns</p>\n",
       "</div>"
      ],
      "text/plain": [
       "                      altitude  cadence   distance  heart_rate   latitude  \\\n",
       "time                                                                        \n",
       "2015-09-13T06:25:51  79.400002       76   5.010000         103  53.363708   \n",
       "2015-09-13T06:25:56  90.800003       83  28.090000         106  53.363761   \n",
       "2015-09-13T06:25:57  90.800003       84  34.740002         106  53.363779   \n",
       "\n",
       "                     longitude  \n",
       "time                            \n",
       "2015-09-13T06:25:51  -6.190183  \n",
       "2015-09-13T06:25:56  -6.190519  \n",
       "2015-09-13T06:25:57  -6.190614  \n",
       "\n",
       "[3 rows x 6 columns]"
      ]
     },
     "execution_count": 42,
     "metadata": {},
     "output_type": "execute_result"
    }
   ],
   "source": [
    "df2[:3]"
   ]
  },
  {
   "cell_type": "code",
   "execution_count": 46,
   "metadata": {
    "collapsed": false
   },
   "outputs": [],
   "source": [
    "df2.index = pd.to_datetime(df2.index)"
   ]
  },
  {
   "cell_type": "code",
   "execution_count": 47,
   "metadata": {
    "collapsed": false
   },
   "outputs": [
    {
     "data": {
      "text/html": [
       "<div style=\"max-height:1000px;max-width:1500px;overflow:auto;\">\n",
       "<table border=\"1\" class=\"dataframe\">\n",
       "  <thead>\n",
       "    <tr style=\"text-align: right;\">\n",
       "      <th></th>\n",
       "      <th>altitude</th>\n",
       "      <th>cadence</th>\n",
       "      <th>distance</th>\n",
       "      <th>heart_rate</th>\n",
       "      <th>latitude</th>\n",
       "      <th>longitude</th>\n",
       "    </tr>\n",
       "  </thead>\n",
       "  <tbody>\n",
       "    <tr>\n",
       "      <th>2015-09-13 06:25:51</th>\n",
       "      <td> 79.400002</td>\n",
       "      <td> 76</td>\n",
       "      <td>  5.010000</td>\n",
       "      <td> 103</td>\n",
       "      <td> 53.363708</td>\n",
       "      <td>-6.190183</td>\n",
       "    </tr>\n",
       "    <tr>\n",
       "      <th>2015-09-13 06:25:56</th>\n",
       "      <td> 90.800003</td>\n",
       "      <td> 83</td>\n",
       "      <td> 28.090000</td>\n",
       "      <td> 106</td>\n",
       "      <td> 53.363761</td>\n",
       "      <td>-6.190519</td>\n",
       "    </tr>\n",
       "    <tr>\n",
       "      <th>2015-09-13 06:25:57</th>\n",
       "      <td> 90.800003</td>\n",
       "      <td> 84</td>\n",
       "      <td> 34.740002</td>\n",
       "      <td> 106</td>\n",
       "      <td> 53.363779</td>\n",
       "      <td>-6.190614</td>\n",
       "    </tr>\n",
       "  </tbody>\n",
       "</table>\n",
       "<p>3 rows × 6 columns</p>\n",
       "</div>"
      ],
      "text/plain": [
       "                      altitude  cadence   distance  heart_rate   latitude  \\\n",
       "2015-09-13 06:25:51  79.400002       76   5.010000         103  53.363708   \n",
       "2015-09-13 06:25:56  90.800003       83  28.090000         106  53.363761   \n",
       "2015-09-13 06:25:57  90.800003       84  34.740002         106  53.363779   \n",
       "\n",
       "                     longitude  \n",
       "2015-09-13 06:25:51  -6.190183  \n",
       "2015-09-13 06:25:56  -6.190519  \n",
       "2015-09-13 06:25:57  -6.190614  \n",
       "\n",
       "[3 rows x 6 columns]"
      ]
     },
     "execution_count": 47,
     "metadata": {},
     "output_type": "execute_result"
    }
   ],
   "source": [
    "df2[:3]"
   ]
  },
  {
   "cell_type": "code",
   "execution_count": 49,
   "metadata": {
    "collapsed": false
   },
   "outputs": [
    {
     "data": {
      "text/plain": [
       "<class 'pandas.tseries.index.DatetimeIndex'>\n",
       "[2015-09-13 06:25:51, ..., 2015-09-13 11:32:02]\n",
       "Length: 5358, Freq: None, Timezone: None"
      ]
     },
     "execution_count": 49,
     "metadata": {},
     "output_type": "execute_result"
    }
   ],
   "source": [
    "df2.index"
   ]
  },
  {
   "cell_type": "code",
   "execution_count": 36,
   "metadata": {
    "collapsed": false
   },
   "outputs": [],
   "source": [
    "#for i in d['data_points']:\n",
    "#    print(i['time'])"
   ]
  },
  {
   "cell_type": "code",
   "execution_count": 11,
   "metadata": {
    "collapsed": false
   },
   "outputs": [
    {
     "name": "stdout",
     "output_type": "stream",
     "text": [
      "[{'cadence': 76, 'latitude': 53.36370773613453, 'distance': 5.010000228881836, 'heart_rate': 103, 'time': datetime.datetime(2015, 9, 13, 6, 25, 51), 'longitude': -6.190182846039534, 'altitude': 79.4000015258789}, {'cadence': 83, 'latitude': 53.363760793581605, 'distance': 28.09000015258789, 'heart_rate': 106, 'time': datetime.datetime(2015, 9, 13, 6, 25, 56), 'longitude': -6.190518541261554, 'altitude': 90.80000305175781}, {'cadence': 84, 'latitude': 53.36377898231149, 'distance': 34.7400016784668, 'heart_rate': 106, 'time': datetime.datetime(2015, 9, 13, 6, 25, 57), 'longitude': -6.1906137596815825, 'altitude': 90.80000305175781}]\n"
     ]
    },
    {
     "data": {
      "text/plain": [
       "[{'altitude': 79.4000015258789,\n",
       "  'cadence': 76,\n",
       "  'distance': 5.010000228881836,\n",
       "  'heart_rate': 103,\n",
       "  'latitude': 53.36370773613453,\n",
       "  'longitude': -6.190182846039534,\n",
       "  'time': datetime.datetime(2015, 9, 13, 6, 25, 51)},\n",
       " {'altitude': 90.80000305175781,\n",
       "  'cadence': 83,\n",
       "  'distance': 28.09000015258789,\n",
       "  'heart_rate': 106,\n",
       "  'latitude': 53.363760793581605,\n",
       "  'longitude': -6.190518541261554,\n",
       "  'time': datetime.datetime(2015, 9, 13, 6, 25, 56)}]"
      ]
     },
     "execution_count": 11,
     "metadata": {},
     "output_type": "execute_result"
    }
   ],
   "source": [
    "print(my_data[:3])\n",
    "my_data_dict = { 'data_points': my_data }\n",
    "#my_data_json[:300]\n",
    "#xxxx = json.dumps(my_data_json)\n",
    "my_data_dict['data_points'][0]['time']\n",
    "len(my_data_dict['data_points'][:2])\n",
    "my_data_dict['data_points'][:2]"
   ]
  },
  {
   "cell_type": "code",
   "execution_count": null,
   "metadata": {
    "collapsed": true
   },
   "outputs": [],
   "source": []
  }
 ],
 "metadata": {
  "kernelspec": {
   "display_name": "Python 3",
   "language": "python",
   "name": "python3"
  },
  "language_info": {
   "codemirror_mode": {
    "name": "ipython",
    "version": 3
   },
   "file_extension": ".py",
   "mimetype": "text/x-python",
   "name": "python",
   "nbconvert_exporter": "python",
   "pygments_lexer": "ipython3",
   "version": "3.4.0"
  }
 },
 "nbformat": 4,
 "nbformat_minor": 0
}
