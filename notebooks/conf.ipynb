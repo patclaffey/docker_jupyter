{
 "cells": [
  {
   "cell_type": "markdown",
   "metadata": {},
   "source": [
    "# Conference\n",
    "\n",
    "The 6th annual Python Conference took place on the weekend of Oct 24 and 25 in Dublin.\n",
    "I was a member of the organizing committee and took on the role of sponsorship coordinator and venue coordinator.\n",
    "\n",
    "\n",
    "## My Role\n",
    "Sponsorship is very important role as sponsors the conference finances is split fairly evenly between sponsorship and ticket sales.  The benefit of sponsorship is passed on directly to delegates in terms of reduced ticket prices, expecially for students and unwaged.\n",
    "\n",
    "\n",
    "\n",
    "\n",
    "\n",
    "## Highlights\n",
    "\n",
    "- Talk by New Relic\n",
    "- Talk by AOL\n",
    "- Venue\n",
    "\n",
    "- ECG talk\n",
    "\n",
    "- recruitment sprint\n"
   ]
  }
 ],
 "metadata": {
  "kernelspec": {
   "display_name": "Python 3",
   "language": "python",
   "name": "python3"
  },
  "language_info": {
   "codemirror_mode": {
    "name": "ipython",
    "version": 3
   },
   "file_extension": ".py",
   "mimetype": "text/x-python",
   "name": "python",
   "nbconvert_exporter": "python",
   "pygments_lexer": "ipython3",
   "version": "3.4.0"
  }
 },
 "nbformat": 4,
 "nbformat_minor": 0
}
