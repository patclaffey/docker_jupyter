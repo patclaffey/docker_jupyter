{
 "cells": [
  {
   "cell_type": "code",
   "execution_count": 1,
   "metadata": {
    "collapsed": true
   },
   "outputs": [],
   "source": [
    "#Import Python Libraries\n",
    "\n",
    "%matplotlib inline\n",
    "import matplotlib.pyplot as plt\n",
    "import xml.etree.ElementTree as etree \n",
    "from datetime import datetime, timedelta\n",
    "import os\n",
    "import json\n",
    "import pandas as pd\n",
    "import numpy as np\n",
    "from pytz import common_timezones, all_timezones, timezone"
   ]
  },
  {
   "cell_type": "code",
   "execution_count": 3,
   "metadata": {
    "collapsed": false
   },
   "outputs": [
    {
     "name": "stdout",
     "output_type": "stream",
     "text": [
      "Input file is (full path)   /opt/jupyter/data/csv/activity_898238015.json\n"
     ]
    }
   ],
   "source": [
    "#activity_file = \"D:/downloads/activity_873783146.tcx\" # Naul cycle with Barry\n",
    "#activity_file = \"D:/downloads/activity_898238015.tcx\" # Great Dublin Cycle\n",
    "\n",
    "# Define name and path of data file\n",
    "# This data file contains a sub-set of activiy information relating to speed and time\n",
    "\n",
    "input_file = 'activity_898238015.json' # Great Dublin Cycle\n",
    "input_dir = os.path.join(\"/\", \"opt\",\"jupyter\",\"data\",\"csv\" )\n",
    "input_file_path = os.path.join(input_dir , input_file)\n",
    "\n",
    "print (\"Input file is (full path)  \", input_file_path)\n",
    "\n"
   ]
  },
  {
   "cell_type": "code",
   "execution_count": 24,
   "metadata": {
    "collapsed": false
   },
   "outputs": [
    {
     "name": "stdout",
     "output_type": "stream",
     "text": [
      "{\"data_points\": [{\"cadence\": 76, \"latitude\": 53.36370773613453, \"distance\": 5.010000228881836, \"heart_rate\": 103, \"time\": \"2015-09-13T06:25:51\", \"longitude\": -6.190182846039534, \"altitude\": 79.4000015258789}, {\"cadence\": 83, \"latitude\": 53.363760793581605, \"distance\": 28.09000015258789, \"heart_rate\": 106, \"time\": \"2015-09-13T06:25:56\", \"longitude\": -6.190518541261554, \"altitude\": 90.80000305175781}, {\"cadence\": 84, \"latitude\": 53.36377898231149, \"distance\": 34.7400016784668, \"heart_rate\": 106, \"time\": \"2015-09-13T06:25:57\", \"longitude\": -6.1906137596815825, \"altitude\": 90.80000305175781}, {\"cadence\": 85, \"latitude\": 53.363817036151886, \"dista\n"
     ]
    }
   ],
   "source": [
    "with open(input_file_path) as file_obj:\n",
    "    i = 0\n",
    "    for lines in file_obj:\n",
    "        print(lines[:650])"
   ]
  },
  {
   "cell_type": "code",
   "execution_count": 25,
   "metadata": {
    "collapsed": false
   },
   "outputs": [],
   "source": [
    "with open(input_file_path, 'r') as json_data:\n",
    "    d = json.load(json_data)"
   ]
  },
  {
   "cell_type": "code",
   "execution_count": 45,
   "metadata": {
    "collapsed": false
   },
   "outputs": [],
   "source": [
    "df = pd.DataFrame.from_dict(d['data_points'])"
   ]
  },
  {
   "cell_type": "code",
   "execution_count": 28,
   "metadata": {
    "collapsed": true
   },
   "outputs": [],
   "source": [
    "# convert time field to Python datetime type\n",
    "#df.time = pd.to_datetime(df.time)"
   ]
  },
  {
   "cell_type": "code",
   "execution_count": 37,
   "metadata": {
    "collapsed": false
   },
   "outputs": [],
   "source": [
    "# for cadence - if missing set to -1 so that we can investigate later\n",
    "# convert this column to integer\n",
    "#df.cadence = df.cadence.fillna(-1).astype('int')"
   ]
  },
  {
   "cell_type": "code",
   "execution_count": 46,
   "metadata": {
    "collapsed": false
   },
   "outputs": [
    {
     "data": {
      "text/html": [
       "<div>\n",
       "<table border=\"1\" class=\"dataframe\">\n",
       "  <thead>\n",
       "    <tr style=\"text-align: right;\">\n",
       "      <th></th>\n",
       "      <th>altitude</th>\n",
       "      <th>cadence</th>\n",
       "      <th>distance</th>\n",
       "      <th>heart_rate</th>\n",
       "      <th>latitude</th>\n",
       "      <th>longitude</th>\n",
       "      <th>time</th>\n",
       "    </tr>\n",
       "  </thead>\n",
       "  <tbody>\n",
       "    <tr>\n",
       "      <th>0</th>\n",
       "      <td>79.400002</td>\n",
       "      <td>76</td>\n",
       "      <td>5.010000</td>\n",
       "      <td>103</td>\n",
       "      <td>53.363708</td>\n",
       "      <td>-6.190183</td>\n",
       "      <td>2015-09-13T06:25:51</td>\n",
       "    </tr>\n",
       "    <tr>\n",
       "      <th>1</th>\n",
       "      <td>90.800003</td>\n",
       "      <td>83</td>\n",
       "      <td>28.090000</td>\n",
       "      <td>106</td>\n",
       "      <td>53.363761</td>\n",
       "      <td>-6.190519</td>\n",
       "      <td>2015-09-13T06:25:56</td>\n",
       "    </tr>\n",
       "    <tr>\n",
       "      <th>2</th>\n",
       "      <td>90.800003</td>\n",
       "      <td>84</td>\n",
       "      <td>34.740002</td>\n",
       "      <td>106</td>\n",
       "      <td>53.363779</td>\n",
       "      <td>-6.190614</td>\n",
       "      <td>2015-09-13T06:25:57</td>\n",
       "    </tr>\n",
       "    <tr>\n",
       "      <th>3</th>\n",
       "      <td>90.800003</td>\n",
       "      <td>85</td>\n",
       "      <td>40.650002</td>\n",
       "      <td>108</td>\n",
       "      <td>53.363817</td>\n",
       "      <td>-6.190668</td>\n",
       "      <td>2015-09-13T06:26:00</td>\n",
       "    </tr>\n",
       "    <tr>\n",
       "      <th>4</th>\n",
       "      <td>90.800003</td>\n",
       "      <td>87</td>\n",
       "      <td>52.090000</td>\n",
       "      <td>110</td>\n",
       "      <td>53.363877</td>\n",
       "      <td>-6.190771</td>\n",
       "      <td>2015-09-13T06:26:03</td>\n",
       "    </tr>\n",
       "  </tbody>\n",
       "</table>\n",
       "</div>"
      ],
      "text/plain": [
       "    altitude  cadence   distance  heart_rate   latitude  longitude  \\\n",
       "0  79.400002       76   5.010000         103  53.363708  -6.190183   \n",
       "1  90.800003       83  28.090000         106  53.363761  -6.190519   \n",
       "2  90.800003       84  34.740002         106  53.363779  -6.190614   \n",
       "3  90.800003       85  40.650002         108  53.363817  -6.190668   \n",
       "4  90.800003       87  52.090000         110  53.363877  -6.190771   \n",
       "\n",
       "                  time  \n",
       "0  2015-09-13T06:25:51  \n",
       "1  2015-09-13T06:25:56  \n",
       "2  2015-09-13T06:25:57  \n",
       "3  2015-09-13T06:26:00  \n",
       "4  2015-09-13T06:26:03  "
      ]
     },
     "execution_count": 46,
     "metadata": {},
     "output_type": "execute_result"
    }
   ],
   "source": [
    "df.head()"
   ]
  },
  {
   "cell_type": "code",
   "execution_count": 47,
   "metadata": {
    "collapsed": false
   },
   "outputs": [
    {
     "data": {
      "text/plain": [
       "altitude      float64\n",
       "cadence       float64\n",
       "distance      float64\n",
       "heart_rate      int64\n",
       "latitude      float64\n",
       "longitude     float64\n",
       "time           object\n",
       "dtype: object"
      ]
     },
     "execution_count": 47,
     "metadata": {},
     "output_type": "execute_result"
    }
   ],
   "source": [
    "#check the data type conversions are good:\n",
    "df.dtypes"
   ]
  },
  {
   "cell_type": "code",
   "execution_count": 48,
   "metadata": {
    "collapsed": false
   },
   "outputs": [
    {
     "data": {
      "image/png": "[encoded data removed]",
      "text/plain": [
       "<matplotlib.figure.Figure at 0x7ffa4c172550>"
      ]
     },
     "metadata": {},
     "output_type": "display_data"
    }
   ],
   "source": [
    "_ = df.plot(kind='area',\n",
    "       subplots=True, \n",
    "        figsize=(14, 20),\n",
    "        )"
   ]
  },
  {
   "cell_type": "code",
   "execution_count": 49,
   "metadata": {
    "collapsed": false
   },
   "outputs": [
    {
     "data": {
      "text/html": [
       "<div>\n",
       "<table border=\"1\" class=\"dataframe\">\n",
       "  <thead>\n",
       "    <tr style=\"text-align: right;\">\n",
       "      <th></th>\n",
       "      <th>altitude</th>\n",
       "      <th>cadence</th>\n",
       "      <th>distance</th>\n",
       "      <th>heart_rate</th>\n",
       "      <th>latitude</th>\n",
       "      <th>longitude</th>\n",
       "    </tr>\n",
       "  </thead>\n",
       "  <tbody>\n",
       "    <tr>\n",
       "      <th>count</th>\n",
       "      <td>5358.000000</td>\n",
       "      <td>5312.000000</td>\n",
       "      <td>5347.000000</td>\n",
       "      <td>5358.000000</td>\n",
       "      <td>5347.000000</td>\n",
       "      <td>5347.000000</td>\n",
       "    </tr>\n",
       "    <tr>\n",
       "      <th>mean</th>\n",
       "      <td>111.955730</td>\n",
       "      <td>65.521273</td>\n",
       "      <td>55305.131840</td>\n",
       "      <td>128.561590</td>\n",
       "      <td>53.491536</td>\n",
       "      <td>-6.301922</td>\n",
       "    </tr>\n",
       "    <tr>\n",
       "      <th>std</th>\n",
       "      <td>36.721701</td>\n",
       "      <td>34.935758</td>\n",
       "      <td>28127.615377</td>\n",
       "      <td>13.721647</td>\n",
       "      <td>0.093893</td>\n",
       "      <td>0.083439</td>\n",
       "    </tr>\n",
       "    <tr>\n",
       "      <th>min</th>\n",
       "      <td>54.799999</td>\n",
       "      <td>0.000000</td>\n",
       "      <td>5.010000</td>\n",
       "      <td>85.000000</td>\n",
       "      <td>53.345526</td>\n",
       "      <td>-6.449606</td>\n",
       "    </tr>\n",
       "    <tr>\n",
       "      <th>25%</th>\n",
       "      <td>78.000000</td>\n",
       "      <td>57.000000</td>\n",
       "      <td>35449.244141</td>\n",
       "      <td>118.000000</td>\n",
       "      <td>53.397380</td>\n",
       "      <td>-6.381119</td>\n",
       "    </tr>\n",
       "    <tr>\n",
       "      <th>50%</th>\n",
       "      <td>119.400002</td>\n",
       "      <td>78.000000</td>\n",
       "      <td>56192.808594</td>\n",
       "      <td>129.000000</td>\n",
       "      <td>53.495561</td>\n",
       "      <td>-6.293268</td>\n",
       "    </tr>\n",
       "    <tr>\n",
       "      <th>75%</th>\n",
       "      <td>137.800003</td>\n",
       "      <td>89.000000</td>\n",
       "      <td>74205.464844</td>\n",
       "      <td>139.000000</td>\n",
       "      <td>53.577163</td>\n",
       "      <td>-6.258500</td>\n",
       "    </tr>\n",
       "    <tr>\n",
       "      <th>max</th>\n",
       "      <td>200.600006</td>\n",
       "      <td>128.000000</td>\n",
       "      <td>105730.960938</td>\n",
       "      <td>162.000000</td>\n",
       "      <td>53.625859</td>\n",
       "      <td>-6.122161</td>\n",
       "    </tr>\n",
       "  </tbody>\n",
       "</table>\n",
       "</div>"
      ],
      "text/plain": [
       "          altitude      cadence       distance   heart_rate     latitude  \\\n",
       "count  5358.000000  5312.000000    5347.000000  5358.000000  5347.000000   \n",
       "mean    111.955730    65.521273   55305.131840   128.561590    53.491536   \n",
       "std      36.721701    34.935758   28127.615377    13.721647     0.093893   \n",
       "min      54.799999     0.000000       5.010000    85.000000    53.345526   \n",
       "25%      78.000000    57.000000   35449.244141   118.000000    53.397380   \n",
       "50%     119.400002    78.000000   56192.808594   129.000000    53.495561   \n",
       "75%     137.800003    89.000000   74205.464844   139.000000    53.577163   \n",
       "max     200.600006   128.000000  105730.960938   162.000000    53.625859   \n",
       "\n",
       "         longitude  \n",
       "count  5347.000000  \n",
       "mean     -6.301922  \n",
       "std       0.083439  \n",
       "min      -6.449606  \n",
       "25%      -6.381119  \n",
       "50%      -6.293268  \n",
       "75%      -6.258500  \n",
       "max      -6.122161  "
      ]
     },
     "execution_count": 49,
     "metadata": {},
     "output_type": "execute_result"
    }
   ],
   "source": [
    "df.describe()"
   ]
  },
  {
   "cell_type": "markdown",
   "metadata": {},
   "source": [
    "### Check altitude data"
   ]
  },
  {
   "cell_type": "code",
   "execution_count": 54,
   "metadata": {
    "collapsed": false
   },
   "outputs": [
    {
     "data": {
      "text/plain": [
       "<matplotlib.axes._subplots.AxesSubplot at 0x7ffa475c05f8>"
      ]
     },
     "execution_count": 54,
     "metadata": {},
     "output_type": "execute_result"
    },
    {
     "data": {
      "image/png": "[encoded data removed]",
      "text/plain": [
       "<matplotlib.figure.Figure at 0x7ffa475c3cf8>"
      ]
     },
     "metadata": {},
     "output_type": "display_data"
    }
   ],
   "source": [
    "df.altitude.plot(kind = 'area')"
   ]
  },
  {
   "cell_type": "code",
   "execution_count": 41,
   "metadata": {
    "collapsed": false
   },
   "outputs": [
    {
     "data": {
      "text/plain": [
       "5358"
      ]
     },
     "execution_count": 41,
     "metadata": {},
     "output_type": "execute_result"
    }
   ],
   "source": [
    "df.altitude.count()"
   ]
  },
  {
   "cell_type": "code",
   "execution_count": 42,
   "metadata": {
    "collapsed": false
   },
   "outputs": [
    {
     "data": {
      "text/plain": [
       "5358"
      ]
     },
     "execution_count": 42,
     "metadata": {},
     "output_type": "execute_result"
    }
   ],
   "source": [
    "len(df.altitude)"
   ]
  },
  {
   "cell_type": "code",
   "execution_count": 44,
   "metadata": {
    "collapsed": false
   },
   "outputs": [
    {
     "data": {
      "text/html": [
       "<div>\n",
       "<table border=\"1\" class=\"dataframe\">\n",
       "  <thead>\n",
       "    <tr style=\"text-align: right;\">\n",
       "      <th></th>\n",
       "      <th>altitude</th>\n",
       "      <th>cadence</th>\n",
       "      <th>distance</th>\n",
       "      <th>heart_rate</th>\n",
       "      <th>latitude</th>\n",
       "      <th>longitude</th>\n",
       "      <th>time</th>\n",
       "    </tr>\n",
       "  </thead>\n",
       "  <tbody>\n",
       "  </tbody>\n",
       "</table>\n",
       "</div>"
      ],
      "text/plain": [
       "Empty DataFrame\n",
       "Columns: [altitude, cadence, distance, heart_rate, latitude, longitude, time]\n",
       "Index: []"
      ]
     },
     "execution_count": 44,
     "metadata": {},
     "output_type": "execute_result"
    }
   ],
   "source": [
    "df[ df.altitude.isnull() == True ]"
   ]
  },
  {
   "cell_type": "markdown",
   "metadata": {},
   "source": [
    "### Check cadence"
   ]
  },
  {
   "cell_type": "code",
   "execution_count": 55,
   "metadata": {
    "collapsed": false
   },
   "outputs": [
    {
     "data": {
      "text/plain": [
       "<matplotlib.axes._subplots.AxesSubplot at 0x7ffa47680518>"
      ]
     },
     "execution_count": 55,
     "metadata": {},
     "output_type": "execute_result"
    },
    {
     "data": {
      "image/png": "[encoded data removed]",
      "text/plain": [
       "<matplotlib.figure.Figure at 0x7ffa47786630>"
      ]
     },
     "metadata": {},
     "output_type": "display_data"
    }
   ],
   "source": [
    "df.cadence.plot(kind = 'area')"
   ]
  },
  {
   "cell_type": "code",
   "execution_count": 61,
   "metadata": {
    "collapsed": false
   },
   "outputs": [
    {
     "data": {
      "text/plain": [
       "46"
      ]
     },
     "execution_count": 61,
     "metadata": {},
     "output_type": "execute_result"
    }
   ],
   "source": [
    "df[ df.cadence.isnull() == True ].time.count()"
   ]
  },
  {
   "cell_type": "code",
   "execution_count": 63,
   "metadata": {
    "collapsed": false
   },
   "outputs": [
    {
     "data": {
      "text/html": [
       "<div>\n",
       "<table border=\"1\" class=\"dataframe\">\n",
       "  <thead>\n",
       "    <tr style=\"text-align: right;\">\n",
       "      <th></th>\n",
       "      <th>altitude</th>\n",
       "      <th>cadence</th>\n",
       "      <th>distance</th>\n",
       "      <th>heart_rate</th>\n",
       "      <th>latitude</th>\n",
       "      <th>longitude</th>\n",
       "      <th>time</th>\n",
       "    </tr>\n",
       "  </thead>\n",
       "  <tbody>\n",
       "    <tr>\n",
       "      <th>109</th>\n",
       "      <td>75.400002</td>\n",
       "      <td>NaN</td>\n",
       "      <td>1977.489990</td>\n",
       "      <td>103</td>\n",
       "      <td>53.361328</td>\n",
       "      <td>-6.214706</td>\n",
       "      <td>2015-09-13T06:31:08</td>\n",
       "    </tr>\n",
       "    <tr>\n",
       "      <th>110</th>\n",
       "      <td>75.400002</td>\n",
       "      <td>NaN</td>\n",
       "      <td>1983.209961</td>\n",
       "      <td>106</td>\n",
       "      <td>53.361323</td>\n",
       "      <td>-6.214791</td>\n",
       "      <td>2015-09-13T06:31:10</td>\n",
       "    </tr>\n",
       "    <tr>\n",
       "      <th>238</th>\n",
       "      <td>80.400002</td>\n",
       "      <td>NaN</td>\n",
       "      <td>5270.680176</td>\n",
       "      <td>107</td>\n",
       "      <td>53.354209</td>\n",
       "      <td>-6.256836</td>\n",
       "      <td>2015-09-13T06:39:29</td>\n",
       "    </tr>\n",
       "    <tr>\n",
       "      <th>301</th>\n",
       "      <td>80.199997</td>\n",
       "      <td>NaN</td>\n",
       "      <td>6618.569824</td>\n",
       "      <td>111</td>\n",
       "      <td>53.350090</td>\n",
       "      <td>-6.273613</td>\n",
       "      <td>2015-09-13T06:43:35</td>\n",
       "    </tr>\n",
       "    <tr>\n",
       "      <th>302</th>\n",
       "      <td>80.199997</td>\n",
       "      <td>NaN</td>\n",
       "      <td>6628.750000</td>\n",
       "      <td>109</td>\n",
       "      <td>53.350090</td>\n",
       "      <td>-6.273765</td>\n",
       "      <td>2015-09-13T06:43:37</td>\n",
       "    </tr>\n",
       "  </tbody>\n",
       "</table>\n",
       "</div>"
      ],
      "text/plain": [
       "      altitude  cadence     distance  heart_rate   latitude  longitude  \\\n",
       "109  75.400002      NaN  1977.489990         103  53.361328  -6.214706   \n",
       "110  75.400002      NaN  1983.209961         106  53.361323  -6.214791   \n",
       "238  80.400002      NaN  5270.680176         107  53.354209  -6.256836   \n",
       "301  80.199997      NaN  6618.569824         111  53.350090  -6.273613   \n",
       "302  80.199997      NaN  6628.750000         109  53.350090  -6.273765   \n",
       "\n",
       "                    time  \n",
       "109  2015-09-13T06:31:08  \n",
       "110  2015-09-13T06:31:10  \n",
       "238  2015-09-13T06:39:29  \n",
       "301  2015-09-13T06:43:35  \n",
       "302  2015-09-13T06:43:37  "
      ]
     },
     "execution_count": 63,
     "metadata": {},
     "output_type": "execute_result"
    }
   ],
   "source": [
    "df[ df.cadence.isnull() == True ].head()"
   ]
  },
  {
   "cell_type": "code",
   "execution_count": 64,
   "metadata": {
    "collapsed": true
   },
   "outputs": [],
   "source": [
    "df.cadence.fillna(0, inplace = True)"
   ]
  },
  {
   "cell_type": "code",
   "execution_count": 65,
   "metadata": {
    "collapsed": false
   },
   "outputs": [
    {
     "data": {
      "text/plain": [
       "0"
      ]
     },
     "execution_count": 65,
     "metadata": {},
     "output_type": "execute_result"
    }
   ],
   "source": [
    "df[ df.cadence.isnull() == True ].time.count()"
   ]
  },
  {
   "cell_type": "code",
   "execution_count": 62,
   "metadata": {
    "collapsed": false
   },
   "outputs": [
    {
     "data": {
      "text/plain": [
       "dtype('float64')"
      ]
     },
     "execution_count": 62,
     "metadata": {},
     "output_type": "execute_result"
    }
   ],
   "source": [
    "df.cadence.dtype"
   ]
  },
  {
   "cell_type": "code",
   "execution_count": 66,
   "metadata": {
    "collapsed": true
   },
   "outputs": [],
   "source": [
    "df.cadence = df.cadence.astype('int')"
   ]
  },
  {
   "cell_type": "code",
   "execution_count": 67,
   "metadata": {
    "collapsed": false
   },
   "outputs": [
    {
     "data": {
      "text/plain": [
       "dtype('int64')"
      ]
     },
     "execution_count": 67,
     "metadata": {},
     "output_type": "execute_result"
    }
   ],
   "source": [
    "df.cadence.dtype"
   ]
  },
  {
   "cell_type": "code",
   "execution_count": 68,
   "metadata": {
    "collapsed": false
   },
   "outputs": [
    {
     "data": {
      "text/plain": [
       "count    5358.000000\n",
       "mean       64.958753\n",
       "std        35.306857\n",
       "min         0.000000\n",
       "25%        55.000000\n",
       "50%        78.000000\n",
       "75%        89.000000\n",
       "max       128.000000\n",
       "Name: cadence, dtype: float64"
      ]
     },
     "execution_count": 68,
     "metadata": {},
     "output_type": "execute_result"
    }
   ],
   "source": [
    "df.cadence.describe()"
   ]
  },
  {
   "cell_type": "code",
   "execution_count": null,
   "metadata": {
    "collapsed": true
   },
   "outputs": [],
   "source": []
  }
 ],
 "metadata": {
  "kernelspec": {
   "display_name": "Python 3",
   "language": "python",
   "name": "python3"
  },
  "language_info": {
   "codemirror_mode": {
    "name": "ipython",
    "version": 3
   },
   "file_extension": ".py",
   "mimetype": "text/x-python",
   "name": "python",
   "nbconvert_exporter": "python",
   "pygments_lexer": "ipython3",
   "version": "3.4.0"
  }
 },
 "nbformat": 4,
 "nbformat_minor": 0
}
