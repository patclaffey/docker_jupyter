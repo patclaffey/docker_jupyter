{
 "cells": [
  {
   "cell_type": "code",
   "execution_count": 148,
   "metadata": {
    "collapsed": true
   },
   "outputs": [],
   "source": [
    "#Import Python Libraries\n",
    "\n",
    "%matplotlib inline\n",
    "import matplotlib.pyplot as plt\n",
    "import xml.etree.ElementTree as etree \n",
    "from datetime import datetime, timedelta\n",
    "import os\n",
    "import json\n",
    "import pandas as pd\n",
    "import numpy as np\n",
    "from collections import Counter"
   ]
  },
  {
   "cell_type": "code",
   "execution_count": 149,
   "metadata": {
    "collapsed": false
   },
   "outputs": [
    {
     "name": "stdout",
     "output_type": "stream",
     "text": [
      "Input file is (full path)   /opt/jupyter/data/csv/activity_speed.csv\n"
     ]
    }
   ],
   "source": [
    "# Handle File Names and Paths\n",
    "#input_file_path :  this is full path descriptor of input file\n",
    "\n",
    "input_dir = os.path.join(\"/\", \"opt\",\"jupyter\",\"data\",\"csv\" )\n",
    "input_file = 'activity_speed' + '.csv'\n",
    "input_file_path = os.path.join(input_dir , input_file)\n",
    "\n",
    "print (\"Input file is (full path)  \", input_file_path)"
   ]
  },
  {
   "cell_type": "code",
   "execution_count": 150,
   "metadata": {
    "collapsed": true
   },
   "outputs": [],
   "source": [
    "# Create Pandas DataFrame containing the speed related data and information\n",
    "# this data frame is a sub-set of the overall project data\n",
    "# The dataframe is indexed on time - time series data\n",
    "df = pd.read_csv(input_file_path, index_col = 'time',  parse_dates=True)"
   ]
  },
  {
   "cell_type": "code",
   "execution_count": 151,
   "metadata": {
    "collapsed": true
   },
   "outputs": [],
   "source": [
    "del df_sec"
   ]
  },
  {
   "cell_type": "code",
   "execution_count": 152,
   "metadata": {
    "collapsed": false
   },
   "outputs": [],
   "source": [
    "df_sec = df.asfreq(freq='S', )"
   ]
  },
  {
   "cell_type": "code",
   "execution_count": 153,
   "metadata": {
    "collapsed": false
   },
   "outputs": [],
   "source": [
    "df_sec['speed'] = float(0)\n",
    "df_sec['distance'] = float(0)"
   ]
  },
  {
   "cell_type": "code",
   "execution_count": 154,
   "metadata": {
    "collapsed": false
   },
   "outputs": [
    {
     "data": {
      "text/html": [
       "<div style=\"max-height:1000px;max-width:1500px;overflow:auto;\">\n",
       "<table border=\"1\" class=\"dataframe\">\n",
       "  <thead>\n",
       "    <tr style=\"text-align: right;\">\n",
       "      <th></th>\n",
       "      <th>distance_diff</th>\n",
       "      <th>time_diff</th>\n",
       "      <th>speed</th>\n",
       "      <th>moving</th>\n",
       "      <th>breaks</th>\n",
       "      <th>distance</th>\n",
       "    </tr>\n",
       "  </thead>\n",
       "  <tbody>\n",
       "    <tr>\n",
       "      <th>2015-09-13 06:25:51</th>\n",
       "      <td>  0.000000</td>\n",
       "      <td>  1</td>\n",
       "      <td> 0</td>\n",
       "      <td> False</td>\n",
       "      <td> False</td>\n",
       "      <td> 0</td>\n",
       "    </tr>\n",
       "    <tr>\n",
       "      <th>2015-09-13 06:25:52</th>\n",
       "      <td>       NaN</td>\n",
       "      <td>NaN</td>\n",
       "      <td> 0</td>\n",
       "      <td>   NaN</td>\n",
       "      <td>   NaN</td>\n",
       "      <td> 0</td>\n",
       "    </tr>\n",
       "    <tr>\n",
       "      <th>2015-09-13 06:25:53</th>\n",
       "      <td>       NaN</td>\n",
       "      <td>NaN</td>\n",
       "      <td> 0</td>\n",
       "      <td>   NaN</td>\n",
       "      <td>   NaN</td>\n",
       "      <td> 0</td>\n",
       "    </tr>\n",
       "    <tr>\n",
       "      <th>2015-09-13 06:25:54</th>\n",
       "      <td>       NaN</td>\n",
       "      <td>NaN</td>\n",
       "      <td> 0</td>\n",
       "      <td>   NaN</td>\n",
       "      <td>   NaN</td>\n",
       "      <td> 0</td>\n",
       "    </tr>\n",
       "    <tr>\n",
       "      <th>2015-09-13 06:25:55</th>\n",
       "      <td>       NaN</td>\n",
       "      <td>NaN</td>\n",
       "      <td> 0</td>\n",
       "      <td>   NaN</td>\n",
       "      <td>   NaN</td>\n",
       "      <td> 0</td>\n",
       "    </tr>\n",
       "    <tr>\n",
       "      <th>2015-09-13 06:25:56</th>\n",
       "      <td> 23.080000</td>\n",
       "      <td>  5</td>\n",
       "      <td> 0</td>\n",
       "      <td>  True</td>\n",
       "      <td> False</td>\n",
       "      <td> 0</td>\n",
       "    </tr>\n",
       "    <tr>\n",
       "      <th>2015-09-13 06:25:57</th>\n",
       "      <td>  6.650002</td>\n",
       "      <td>  1</td>\n",
       "      <td> 0</td>\n",
       "      <td>  True</td>\n",
       "      <td> False</td>\n",
       "      <td> 0</td>\n",
       "    </tr>\n",
       "    <tr>\n",
       "      <th>2015-09-13 06:25:58</th>\n",
       "      <td>       NaN</td>\n",
       "      <td>NaN</td>\n",
       "      <td> 0</td>\n",
       "      <td>   NaN</td>\n",
       "      <td>   NaN</td>\n",
       "      <td> 0</td>\n",
       "    </tr>\n",
       "    <tr>\n",
       "      <th>2015-09-13 06:25:59</th>\n",
       "      <td>       NaN</td>\n",
       "      <td>NaN</td>\n",
       "      <td> 0</td>\n",
       "      <td>   NaN</td>\n",
       "      <td>   NaN</td>\n",
       "      <td> 0</td>\n",
       "    </tr>\n",
       "    <tr>\n",
       "      <th>2015-09-13 06:26:00</th>\n",
       "      <td>  5.910000</td>\n",
       "      <td>  3</td>\n",
       "      <td> 0</td>\n",
       "      <td>  True</td>\n",
       "      <td> False</td>\n",
       "      <td> 0</td>\n",
       "    </tr>\n",
       "  </tbody>\n",
       "</table>\n",
       "<p>10 rows × 6 columns</p>\n",
       "</div>"
      ],
      "text/plain": [
       "                     distance_diff  time_diff  speed moving breaks  distance\n",
       "2015-09-13 06:25:51       0.000000          1      0  False  False         0\n",
       "2015-09-13 06:25:52            NaN        NaN      0    NaN    NaN         0\n",
       "2015-09-13 06:25:53            NaN        NaN      0    NaN    NaN         0\n",
       "2015-09-13 06:25:54            NaN        NaN      0    NaN    NaN         0\n",
       "2015-09-13 06:25:55            NaN        NaN      0    NaN    NaN         0\n",
       "2015-09-13 06:25:56      23.080000          5      0   True  False         0\n",
       "2015-09-13 06:25:57       6.650002          1      0   True  False         0\n",
       "2015-09-13 06:25:58            NaN        NaN      0    NaN    NaN         0\n",
       "2015-09-13 06:25:59            NaN        NaN      0    NaN    NaN         0\n",
       "2015-09-13 06:26:00       5.910000          3      0   True  False         0\n",
       "\n",
       "[10 rows x 6 columns]"
      ]
     },
     "execution_count": 154,
     "metadata": {},
     "output_type": "execute_result"
    }
   ],
   "source": [
    "df_sec[:10]"
   ]
  },
  {
   "cell_type": "code",
   "execution_count": 155,
   "metadata": {
    "collapsed": false
   },
   "outputs": [],
   "source": [
    "df_sec.moving.fillna(method = 'bfill', inplace=True)"
   ]
  },
  {
   "cell_type": "code",
   "execution_count": 156,
   "metadata": {
    "collapsed": true
   },
   "outputs": [],
   "source": [
    "df_sec.breaks.fillna(method = 'bfill', inplace=True)"
   ]
  },
  {
   "cell_type": "code",
   "execution_count": 157,
   "metadata": {
    "collapsed": false
   },
   "outputs": [
    {
     "data": {
      "text/html": [
       "<div style=\"max-height:1000px;max-width:1500px;overflow:auto;\">\n",
       "<table border=\"1\" class=\"dataframe\">\n",
       "  <thead>\n",
       "    <tr style=\"text-align: right;\">\n",
       "      <th></th>\n",
       "      <th>distance_diff</th>\n",
       "      <th>time_diff</th>\n",
       "      <th>speed</th>\n",
       "      <th>moving</th>\n",
       "      <th>breaks</th>\n",
       "      <th>distance</th>\n",
       "    </tr>\n",
       "  </thead>\n",
       "  <tbody>\n",
       "    <tr>\n",
       "      <th>2015-09-13 06:25:51</th>\n",
       "      <td>  0.000000</td>\n",
       "      <td> 1</td>\n",
       "      <td> 0</td>\n",
       "      <td> False</td>\n",
       "      <td> False</td>\n",
       "      <td> 0</td>\n",
       "    </tr>\n",
       "    <tr>\n",
       "      <th>2015-09-13 06:25:56</th>\n",
       "      <td> 23.080000</td>\n",
       "      <td> 5</td>\n",
       "      <td> 0</td>\n",
       "      <td>  True</td>\n",
       "      <td> False</td>\n",
       "      <td> 0</td>\n",
       "    </tr>\n",
       "    <tr>\n",
       "      <th>2015-09-13 06:25:57</th>\n",
       "      <td>  6.650002</td>\n",
       "      <td> 1</td>\n",
       "      <td> 0</td>\n",
       "      <td>  True</td>\n",
       "      <td> False</td>\n",
       "      <td> 0</td>\n",
       "    </tr>\n",
       "    <tr>\n",
       "      <th>2015-09-13 06:26:00</th>\n",
       "      <td>  5.910000</td>\n",
       "      <td> 3</td>\n",
       "      <td> 0</td>\n",
       "      <td>  True</td>\n",
       "      <td> False</td>\n",
       "      <td> 0</td>\n",
       "    </tr>\n",
       "    <tr>\n",
       "      <th>2015-09-13 06:26:03</th>\n",
       "      <td> 11.439999</td>\n",
       "      <td> 3</td>\n",
       "      <td> 0</td>\n",
       "      <td>  True</td>\n",
       "      <td> False</td>\n",
       "      <td> 0</td>\n",
       "    </tr>\n",
       "    <tr>\n",
       "      <th>2015-09-13 06:26:07</th>\n",
       "      <td> 22.039997</td>\n",
       "      <td> 4</td>\n",
       "      <td> 0</td>\n",
       "      <td>  True</td>\n",
       "      <td> False</td>\n",
       "      <td> 0</td>\n",
       "    </tr>\n",
       "    <tr>\n",
       "      <th>2015-09-13 06:26:13</th>\n",
       "      <td> 37.270004</td>\n",
       "      <td> 6</td>\n",
       "      <td> 0</td>\n",
       "      <td>  True</td>\n",
       "      <td> False</td>\n",
       "      <td> 0</td>\n",
       "    </tr>\n",
       "    <tr>\n",
       "      <th>2015-09-13 06:26:14</th>\n",
       "      <td>  9.119995</td>\n",
       "      <td> 1</td>\n",
       "      <td> 0</td>\n",
       "      <td>  True</td>\n",
       "      <td> False</td>\n",
       "      <td> 0</td>\n",
       "    </tr>\n",
       "    <tr>\n",
       "      <th>2015-09-13 06:26:17</th>\n",
       "      <td> 16.870003</td>\n",
       "      <td> 3</td>\n",
       "      <td> 0</td>\n",
       "      <td>  True</td>\n",
       "      <td> False</td>\n",
       "      <td> 0</td>\n",
       "    </tr>\n",
       "    <tr>\n",
       "      <th>2015-09-13 06:26:20</th>\n",
       "      <td> 16.210007</td>\n",
       "      <td> 3</td>\n",
       "      <td> 0</td>\n",
       "      <td>  True</td>\n",
       "      <td> False</td>\n",
       "      <td> 0</td>\n",
       "    </tr>\n",
       "    <tr>\n",
       "      <th>2015-09-13 06:26:27</th>\n",
       "      <td> 39.629990</td>\n",
       "      <td> 7</td>\n",
       "      <td> 0</td>\n",
       "      <td>  True</td>\n",
       "      <td> False</td>\n",
       "      <td> 0</td>\n",
       "    </tr>\n",
       "    <tr>\n",
       "      <th>2015-09-13 06:26:36</th>\n",
       "      <td> 54.960007</td>\n",
       "      <td> 9</td>\n",
       "      <td> 0</td>\n",
       "      <td>  True</td>\n",
       "      <td> False</td>\n",
       "      <td> 0</td>\n",
       "    </tr>\n",
       "    <tr>\n",
       "      <th>2015-09-13 06:26:43</th>\n",
       "      <td> 52.139984</td>\n",
       "      <td> 7</td>\n",
       "      <td> 0</td>\n",
       "      <td>  True</td>\n",
       "      <td> False</td>\n",
       "      <td> 0</td>\n",
       "    </tr>\n",
       "    <tr>\n",
       "      <th>2015-09-13 06:26:44</th>\n",
       "      <td>  4.610016</td>\n",
       "      <td> 1</td>\n",
       "      <td> 0</td>\n",
       "      <td>  True</td>\n",
       "      <td> False</td>\n",
       "      <td> 0</td>\n",
       "    </tr>\n",
       "  </tbody>\n",
       "</table>\n",
       "<p>14 rows × 6 columns</p>\n",
       "</div>"
      ],
      "text/plain": [
       "                     distance_diff  time_diff  speed moving breaks  distance\n",
       "2015-09-13 06:25:51       0.000000          1      0  False  False         0\n",
       "2015-09-13 06:25:56      23.080000          5      0   True  False         0\n",
       "2015-09-13 06:25:57       6.650002          1      0   True  False         0\n",
       "2015-09-13 06:26:00       5.910000          3      0   True  False         0\n",
       "2015-09-13 06:26:03      11.439999          3      0   True  False         0\n",
       "2015-09-13 06:26:07      22.039997          4      0   True  False         0\n",
       "2015-09-13 06:26:13      37.270004          6      0   True  False         0\n",
       "2015-09-13 06:26:14       9.119995          1      0   True  False         0\n",
       "2015-09-13 06:26:17      16.870003          3      0   True  False         0\n",
       "2015-09-13 06:26:20      16.210007          3      0   True  False         0\n",
       "2015-09-13 06:26:27      39.629990          7      0   True  False         0\n",
       "2015-09-13 06:26:36      54.960007          9      0   True  False         0\n",
       "2015-09-13 06:26:43      52.139984          7      0   True  False         0\n",
       "2015-09-13 06:26:44       4.610016          1      0   True  False         0\n",
       "\n",
       "[14 rows x 6 columns]"
      ]
     },
     "execution_count": 157,
     "metadata": {},
     "output_type": "execute_result"
    }
   ],
   "source": [
    "df_sec[ (df_sec.time_diff.notnull() )][:14]"
   ]
  },
  {
   "cell_type": "code",
   "execution_count": 158,
   "metadata": {
    "collapsed": false
   },
   "outputs": [],
   "source": [
    "num_rows = len( df_sec[ (df_sec.time_diff.notnull() )] )\n",
    "for i in range( num_rows ):\n",
    "    row = df_sec[ (df_sec.time_diff.notnull() )].iloc[i] \n",
    "    row_time = row.name\n",
    "    if row.breaks == False:\n",
    "        start_time = row_time - timedelta(seconds = ( int(row.time_diff) - 1))\n",
    "        #print( str(row.time_diff) + str(row_time) + str(start_time))\n",
    "        new_dist = ( row.distance_diff / int(row.time_diff) ) \n",
    "        df_sec[ start_time:row_time ].distance = new_dist\n",
    "        df_sec[ start_time:row_time ].speed = new_dist * 3.6\n",
    "        #print( my_df[start_time:row_time] )"
   ]
  },
  {
   "cell_type": "code",
   "execution_count": 159,
   "metadata": {
    "collapsed": true
   },
   "outputs": [],
   "source": [
    "del df_sec['distance_diff']\n",
    "del df_sec['time_diff']"
   ]
  },
  {
   "cell_type": "code",
   "execution_count": 160,
   "metadata": {
    "collapsed": false
   },
   "outputs": [
    {
     "data": {
      "image/png": "[encoded data removed]",
      "text/plain": [
       "<matplotlib.figure.Figure at 0x7fa31df9e048>"
      ]
     },
     "metadata": {},
     "output_type": "display_data"
    }
   ],
   "source": [
    "_ = df_sec['speed'].plot(figsize=(12,8))"
   ]
  },
  {
   "cell_type": "code",
   "execution_count": 161,
   "metadata": {
    "collapsed": false
   },
   "outputs": [
    {
     "data": {
      "text/html": [
       "<div style=\"max-height:1000px;max-width:1500px;overflow:auto;\">\n",
       "<table border=\"1\" class=\"dataframe\">\n",
       "  <thead>\n",
       "    <tr style=\"text-align: right;\">\n",
       "      <th></th>\n",
       "      <th>speed</th>\n",
       "      <th>moving</th>\n",
       "      <th>breaks</th>\n",
       "      <th>distance</th>\n",
       "    </tr>\n",
       "  </thead>\n",
       "  <tbody>\n",
       "    <tr>\n",
       "      <th>2015-09-13 06:25:51</th>\n",
       "      <td>  0.000000</td>\n",
       "      <td> False</td>\n",
       "      <td> False</td>\n",
       "      <td> 0.000000</td>\n",
       "    </tr>\n",
       "    <tr>\n",
       "      <th>2015-09-13 06:25:52</th>\n",
       "      <td> 16.617600</td>\n",
       "      <td>  True</td>\n",
       "      <td> False</td>\n",
       "      <td> 4.616000</td>\n",
       "    </tr>\n",
       "    <tr>\n",
       "      <th>2015-09-13 06:25:53</th>\n",
       "      <td> 16.617600</td>\n",
       "      <td>  True</td>\n",
       "      <td> False</td>\n",
       "      <td> 4.616000</td>\n",
       "    </tr>\n",
       "    <tr>\n",
       "      <th>2015-09-13 06:25:54</th>\n",
       "      <td> 16.617600</td>\n",
       "      <td>  True</td>\n",
       "      <td> False</td>\n",
       "      <td> 4.616000</td>\n",
       "    </tr>\n",
       "    <tr>\n",
       "      <th>2015-09-13 06:25:55</th>\n",
       "      <td> 16.617600</td>\n",
       "      <td>  True</td>\n",
       "      <td> False</td>\n",
       "      <td> 4.616000</td>\n",
       "    </tr>\n",
       "    <tr>\n",
       "      <th>2015-09-13 06:25:56</th>\n",
       "      <td> 16.617600</td>\n",
       "      <td>  True</td>\n",
       "      <td> False</td>\n",
       "      <td> 4.616000</td>\n",
       "    </tr>\n",
       "    <tr>\n",
       "      <th>2015-09-13 06:25:57</th>\n",
       "      <td> 23.940005</td>\n",
       "      <td>  True</td>\n",
       "      <td> False</td>\n",
       "      <td> 6.650002</td>\n",
       "    </tr>\n",
       "    <tr>\n",
       "      <th>2015-09-13 06:25:58</th>\n",
       "      <td>  7.092000</td>\n",
       "      <td>  True</td>\n",
       "      <td> False</td>\n",
       "      <td> 1.970000</td>\n",
       "    </tr>\n",
       "    <tr>\n",
       "      <th>2015-09-13 06:25:59</th>\n",
       "      <td>  7.092000</td>\n",
       "      <td>  True</td>\n",
       "      <td> False</td>\n",
       "      <td> 1.970000</td>\n",
       "    </tr>\n",
       "    <tr>\n",
       "      <th>2015-09-13 06:26:00</th>\n",
       "      <td>  7.092000</td>\n",
       "      <td>  True</td>\n",
       "      <td> False</td>\n",
       "      <td> 1.970000</td>\n",
       "    </tr>\n",
       "    <tr>\n",
       "      <th>2015-09-13 06:26:01</th>\n",
       "      <td> 13.727998</td>\n",
       "      <td>  True</td>\n",
       "      <td> False</td>\n",
       "      <td> 3.813333</td>\n",
       "    </tr>\n",
       "    <tr>\n",
       "      <th>2015-09-13 06:26:02</th>\n",
       "      <td> 13.727998</td>\n",
       "      <td>  True</td>\n",
       "      <td> False</td>\n",
       "      <td> 3.813333</td>\n",
       "    </tr>\n",
       "    <tr>\n",
       "      <th>2015-09-13 06:26:03</th>\n",
       "      <td> 13.727998</td>\n",
       "      <td>  True</td>\n",
       "      <td> False</td>\n",
       "      <td> 3.813333</td>\n",
       "    </tr>\n",
       "    <tr>\n",
       "      <th>2015-09-13 06:26:04</th>\n",
       "      <td> 19.835997</td>\n",
       "      <td>  True</td>\n",
       "      <td> False</td>\n",
       "      <td> 5.509999</td>\n",
       "    </tr>\n",
       "    <tr>\n",
       "      <th>2015-09-13 06:26:05</th>\n",
       "      <td> 19.835997</td>\n",
       "      <td>  True</td>\n",
       "      <td> False</td>\n",
       "      <td> 5.509999</td>\n",
       "    </tr>\n",
       "  </tbody>\n",
       "</table>\n",
       "<p>15 rows × 4 columns</p>\n",
       "</div>"
      ],
      "text/plain": [
       "                         speed moving breaks  distance\n",
       "2015-09-13 06:25:51   0.000000  False  False  0.000000\n",
       "2015-09-13 06:25:52  16.617600   True  False  4.616000\n",
       "2015-09-13 06:25:53  16.617600   True  False  4.616000\n",
       "2015-09-13 06:25:54  16.617600   True  False  4.616000\n",
       "2015-09-13 06:25:55  16.617600   True  False  4.616000\n",
       "2015-09-13 06:25:56  16.617600   True  False  4.616000\n",
       "2015-09-13 06:25:57  23.940005   True  False  6.650002\n",
       "2015-09-13 06:25:58   7.092000   True  False  1.970000\n",
       "2015-09-13 06:25:59   7.092000   True  False  1.970000\n",
       "2015-09-13 06:26:00   7.092000   True  False  1.970000\n",
       "2015-09-13 06:26:01  13.727998   True  False  3.813333\n",
       "2015-09-13 06:26:02  13.727998   True  False  3.813333\n",
       "2015-09-13 06:26:03  13.727998   True  False  3.813333\n",
       "2015-09-13 06:26:04  19.835997   True  False  5.509999\n",
       "2015-09-13 06:26:05  19.835997   True  False  5.509999\n",
       "\n",
       "[15 rows x 4 columns]"
      ]
     },
     "execution_count": 161,
     "metadata": {},
     "output_type": "execute_result"
    }
   ],
   "source": [
    "df_sec[:15]"
   ]
  },
  {
   "cell_type": "code",
   "execution_count": null,
   "metadata": {
    "collapsed": true
   },
   "outputs": [],
   "source": []
  }
 ],
 "metadata": {
  "kernelspec": {
   "display_name": "Python 3",
   "language": "python",
   "name": "python3"
  },
  "language_info": {
   "codemirror_mode": {
    "name": "ipython",
    "version": 3
   },
   "file_extension": ".py",
   "mimetype": "text/x-python",
   "name": "python",
   "nbconvert_exporter": "python",
   "pygments_lexer": "ipython3",
   "version": "3.4.3"
  }
 },
 "nbformat": 4,
 "nbformat_minor": 0
}
